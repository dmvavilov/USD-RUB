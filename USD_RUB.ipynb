{
 "cells": [
  {
   "cell_type": "markdown",
   "metadata": {},
   "source": [
    "## Прогнозирование валютного курса USD/RUB"
   ]
  },
  {
   "cell_type": "code",
   "execution_count": 2,
   "metadata": {
    "collapsed": true
   },
   "outputs": [
    {
     "name": "stderr",
     "output_type": "stream",
     "text": [
      "also installing the dependencies 'strucchange', 'urca', 'lmtest', 'sandwich'\n",
      "\n"
     ]
    },
    {
     "name": "stdout",
     "output_type": "stream",
     "text": [
      "package 'strucchange' successfully unpacked and MD5 sums checked\n",
      "package 'urca' successfully unpacked and MD5 sums checked\n",
      "package 'lmtest' successfully unpacked and MD5 sums checked\n",
      "package 'sandwich' successfully unpacked and MD5 sums checked\n",
      "package 'vars' successfully unpacked and MD5 sums checked\n",
      "\n",
      "The downloaded binary packages are in\n",
      "\tC:\\Temp\\Rtmpwz4Vbx\\downloaded_packages\n"
     ]
    }
   ],
   "source": [
    "install.packages('vars')"
   ]
  },
  {
   "cell_type": "code",
   "execution_count": 89,
   "metadata": {
    "collapsed": true
   },
   "outputs": [
    {
     "name": "stderr",
     "output_type": "stream",
     "text": [
      "also installing the dependencies 'gss', 'stabledist', 'timeSeries', 'fBasics', 'fastICA'\n",
      "\n"
     ]
    },
    {
     "name": "stdout",
     "output_type": "stream",
     "text": [
      "package 'gss' successfully unpacked and MD5 sums checked\n",
      "package 'stabledist' successfully unpacked and MD5 sums checked\n",
      "package 'timeSeries' successfully unpacked and MD5 sums checked\n",
      "package 'fBasics' successfully unpacked and MD5 sums checked\n",
      "package 'fastICA' successfully unpacked and MD5 sums checked\n",
      "package 'fGarch' successfully unpacked and MD5 sums checked\n",
      "\n",
      "The downloaded binary packages are in\n",
      "\tC:\\Temp\\Rtmpwz4Vbx\\downloaded_packages\n"
     ]
    }
   ],
   "source": [
    "install.packages('fGarch')"
   ]
  },
  {
   "cell_type": "code",
   "execution_count": 242,
   "metadata": {
    "collapsed": true
   },
   "outputs": [
    {
     "name": "stderr",
     "output_type": "stream",
     "text": [
      "also installing the dependencies 'rJava', 'xlsxjars'\n",
      "\n"
     ]
    },
    {
     "name": "stdout",
     "output_type": "stream",
     "text": [
      "\n",
      "  There is a binary version available but the source version is later:\n",
      "      binary source needs_compilation\n",
      "rJava 0.9-11 0.9-12              TRUE\n",
      "\n",
      "  Binaries will be installed\n",
      "package 'rJava' successfully unpacked and MD5 sums checked\n",
      "package 'xlsxjars' successfully unpacked and MD5 sums checked\n",
      "package 'xlsx' successfully unpacked and MD5 sums checked\n",
      "\n",
      "The downloaded binary packages are in\n",
      "\tC:\\Temp\\Rtmpwz4Vbx\\downloaded_packages\n"
     ]
    }
   ],
   "source": [
    "install.packages('xlsx')"
   ]
  },
  {
   "cell_type": "code",
   "execution_count": 115,
   "metadata": {
    "collapsed": true
   },
   "outputs": [
    {
     "name": "stdout",
     "output_type": "stream",
     "text": [
      "package 'tseries' successfully unpacked and MD5 sums checked\n"
     ]
    },
    {
     "name": "stderr",
     "output_type": "stream",
     "text": [
      "Warning message:\n",
      "\"cannot remove prior installation of package 'tseries'\"Warning message in file.copy(savedcopy, lib, recursive = TRUE):\n",
      "\"проблема с копированием C:\\Anaconda3\\envs\\Note\\Lib\\R\\library\\00LOCK\\tseries\\libs\\x64\\tseries.dll в C:\\Anaconda3\\envs\\Note\\Lib\\R\\library\\tseries\\libs\\x64\\tseries.dll: Permission denied\"Warning message:\n",
      "\"restored 'tseries'\""
     ]
    },
    {
     "name": "stdout",
     "output_type": "stream",
     "text": [
      "\n",
      "The downloaded binary packages are in\n",
      "\tC:\\Temp\\Rtmpwz4Vbx\\downloaded_packages\n"
     ]
    }
   ],
   "source": [
    "install.packages('tseries')"
   ]
  },
  {
   "cell_type": "code",
   "execution_count": 5,
   "metadata": {
    "collapsed": true
   },
   "outputs": [
    {
     "name": "stderr",
     "output_type": "stream",
     "text": [
      "also installing the dependencies 'quadprog', 'fracdiff', 'tseries', 'RcppArmadillo'\n",
      "\n"
     ]
    },
    {
     "name": "stdout",
     "output_type": "stream",
     "text": [
      "package 'quadprog' successfully unpacked and MD5 sums checked\n",
      "package 'fracdiff' successfully unpacked and MD5 sums checked\n",
      "package 'tseries' successfully unpacked and MD5 sums checked\n",
      "package 'RcppArmadillo' successfully unpacked and MD5 sums checked\n",
      "package 'forecast' successfully unpacked and MD5 sums checked\n",
      "\n",
      "The downloaded binary packages are in\n",
      "\tC:\\Temp\\Rtmpwz4Vbx\\downloaded_packages\n"
     ]
    }
   ],
   "source": [
    "install.packages('forecast')"
   ]
  },
  {
   "cell_type": "code",
   "execution_count": 34,
   "metadata": {
    "collapsed": true
   },
   "outputs": [
    {
     "name": "stderr",
     "output_type": "stream",
     "text": [
      "also installing the dependencies 'bitops', 'fasttime', 'RCurl'\n",
      "\n"
     ]
    },
    {
     "name": "stdout",
     "output_type": "stream",
     "text": [
      "package 'bitops' successfully unpacked and MD5 sums checked\n",
      "package 'fasttime' successfully unpacked and MD5 sums checked\n",
      "package 'RCurl' successfully unpacked and MD5 sums checked\n",
      "package 'QuantTools' successfully unpacked and MD5 sums checked\n",
      "\n",
      "The downloaded binary packages are in\n",
      "\tC:\\Temp\\Rtmpwz4Vbx\\downloaded_packages\n"
     ]
    }
   ],
   "source": [
    "install.packages('QuantTools')"
   ]
  },
  {
   "cell_type": "code",
   "execution_count": 6,
   "metadata": {
    "collapsed": true
   },
   "outputs": [
    {
     "name": "stderr",
     "output_type": "stream",
     "text": [
      "Warning message:\n",
      "\"package 'forecast' was built under R version 3.6.3\"Registered S3 methods overwritten by 'ggplot2':\n",
      "  method         from \n",
      "  [.quosures     rlang\n",
      "  c.quosures     rlang\n",
      "  print.quosures rlang\n",
      "Registered S3 method overwritten by 'quantmod':\n",
      "  method            from\n",
      "  as.zoo.data.frame zoo \n",
      "Loading required package: TTR\n",
      "Version 0.4-0 included new data defaults. See ?getSymbols.\n"
     ]
    }
   ],
   "source": [
    "library(vars)\n",
    "library(xts)\n",
    "library(forecast)\n",
    "library(quantmod)"
   ]
  },
  {
   "cell_type": "code",
   "execution_count": 116,
   "metadata": {
    "collapsed": true
   },
   "outputs": [
    {
     "name": "stderr",
     "output_type": "stream",
     "text": [
      "Warning message:\n",
      "\"package 'tseries' was built under R version 3.6.3\""
     ]
    }
   ],
   "source": [
    "library(tseries)"
   ]
  },
  {
   "cell_type": "code",
   "execution_count": 35,
   "metadata": {
    "collapsed": true
   },
   "outputs": [
    {
     "name": "stderr",
     "output_type": "stream",
     "text": [
      "Warning message:\n",
      "\"package 'QuantTools' was built under R version 3.6.3\"Loading required package: data.table\n",
      "\n",
      "Attaching package: 'data.table'\n",
      "\n",
      "The following objects are masked from 'package:xts':\n",
      "\n",
      "    first, last\n",
      "\n"
     ]
    }
   ],
   "source": [
    "library(QuantTools)"
   ]
  },
  {
   "cell_type": "code",
   "execution_count": 90,
   "metadata": {
    "collapsed": true
   },
   "outputs": [
    {
     "name": "stderr",
     "output_type": "stream",
     "text": [
      "Warning message:\n",
      "\"package 'fGarch' was built under R version 3.6.3\"Loading required package: timeDate\n",
      "Loading required package: timeSeries\n",
      "Warning message:\n",
      "\"package 'timeSeries' was built under R version 3.6.3\"\n",
      "Attaching package: 'timeSeries'\n",
      "\n",
      "The following object is masked from 'package:QuantTools':\n",
      "\n",
      "    returns\n",
      "\n",
      "The following object is masked from 'package:zoo':\n",
      "\n",
      "    time<-\n",
      "\n",
      "Loading required package: fBasics\n",
      "Warning message:\n",
      "\"package 'fBasics' was built under R version 3.6.3\"\n",
      "Attaching package: 'fBasics'\n",
      "\n",
      "The following object is masked from 'package:TTR':\n",
      "\n",
      "    volatility\n",
      "\n"
     ]
    }
   ],
   "source": [
    "library(fGarch)"
   ]
  },
  {
   "cell_type": "markdown",
   "metadata": {},
   "source": [
    "#### Взятая из чьего-то ГитХаба функция, которая позволяет выбрать лучшую ARMA+GARCH модель:"
   ]
  },
  {
   "cell_type": "code",
   "execution_count": 130,
   "metadata": {},
   "outputs": [],
   "source": [
    "garchAutoTryFit = function(\n",
    "   ll,\n",
    "   data,\n",
    "   trace=FALSE,\n",
    "   forecast.length=1,\n",
    "   with.forecast=TRUE,\n",
    "   ic=\"AIC\",\n",
    "   garch.model=\"garch\" )\n",
    "{\n",
    "   formula = as.formula( paste( sep=\"\",\n",
    "                                \"~ arma(\", ll$order[1], \",\", ll$order[2], \")+\",\n",
    "                                garch.model,\n",
    "                                \"(\", ll$order[3], \",\", ll$order[4], \")\" ) )\n",
    "   fit = tryCatch( garchFit( formula=formula,\n",
    "                             data=data,\n",
    "                             trace=FALSE,\n",
    "                             cond.dist=ll$dist ),\n",
    "                   error=function( err ) TRUE,\n",
    "                   warning=function( warn ) FALSE )\n",
    "\n",
    "   pp = NULL\n",
    "\n",
    "   if( !is.logical( fit ) ) {\n",
    "      if( with.forecast ) {\n",
    "         pp = tryCatch( predict( fit,\n",
    "                                 n.ahead=forecast.length,\n",
    "                                 doplot=FALSE ),\n",
    "                        error=function( err ) FALSE,\n",
    "                        warning=function( warn ) FALSE )\n",
    "         if( is.logical( pp ) ) {\n",
    "            fit = NULL\n",
    "         }\n",
    "      }\n",
    "   } else {\n",
    "      fit = NULL\n",
    "   }\n",
    "\n",
    "   if( trace ) {\n",
    "      if( is.null( fit ) ) {\n",
    "         cat( paste( sep=\"\",\n",
    "                     \"   Analyzing (\", ll$order[1], \",\", ll$order[2],\n",
    "                                    \",\", ll$order[3], \",\", ll$order[4], \") with \",\n",
    "                                    ll$dist, \" distribution done.\",\n",
    "                     \"Bad model.\\n\" ) )\n",
    "      } else {\n",
    "         if( with.forecast ) {\n",
    "            cat( paste( sep=\"\",\n",
    "                        \"   Analyzing (\", ll$order[1], \",\", ll$order[2], \",\",\n",
    "                                          ll$order[3], \",\", ll$order[4], \") with \",\n",
    "                                          ll$dist, \" distribution done.\",\n",
    "                        \"Good model. \", ic, \" = \", round(fit@fit$ics[[ic]],6),\n",
    "                        \", forecast: \",\n",
    "                        paste( collapse=\",\", round(pp[,1],4) ), \"\\n\" ) )\n",
    "         } else {\n",
    "            cat( paste( sep=\"\",\n",
    "                        \"   Analyzing (\", ll[1], \",\", ll[2], \",\", ll[3], \",\", ll[4], \") with \",\n",
    "                                          ll$dist, \" distribution done.\",\n",
    "                        \"Good model. \", ic, \" = \", round(fit@fit$ics[[ic]],6), \"\\n\" ) )\n",
    "         }\n",
    "      }\n",
    "   }\n",
    "\n",
    "   return( fit )\n",
    "}\n",
    "\n",
    "garchAuto = function(\n",
    "   xx,\n",
    "   min.order=c(0,0,1,1),\n",
    "   max.order=c(5,5,1,1),\n",
    "   trace=FALSE,\n",
    "   cond.dists=\"sged\",\n",
    "   with.forecast=TRUE,\n",
    "   forecast.length=1,\n",
    "   arma.sum=c(0,1e9),\n",
    "   cores=1,\n",
    "   ic=\"AIC\",\n",
    "   garch.model=\"garch\" )\n",
    "{\n",
    "   require( fGarch )\n",
    "   require( parallel )\n",
    "\n",
    "   len = NROW( xx )\n",
    "\n",
    "   models = list( )\n",
    "\n",
    "   for( dist in cond.dists )\n",
    "   for( p in min.order[1]:max.order[1] )\n",
    "   for( q in min.order[2]:max.order[2] )\n",
    "   for( r in min.order[3]:max.order[3] )\n",
    "   for( s in min.order[4]:max.order[4] )\n",
    "   {\n",
    "      pq.sum = p + q\n",
    "      if( pq.sum <= arma.sum[2] && pq.sum >= arma.sum[1] )\n",
    "      {\n",
    "         models[[length( models ) + 1]] = list( order=c( p, q, r, s ), dist=dist )\n",
    "      }\n",
    "   }\n",
    "\n",
    "   res = mclapply( models,\n",
    "                   garchAutoTryFit,\n",
    "                   data=xx,\n",
    "                   trace=trace,\n",
    "                   ic=ic,\n",
    "                   garch.model=garch.model,\n",
    "                   forecast.length=forecast.length,\n",
    "                   with.forecast=TRUE,\n",
    "                   mc.cores=cores )\n",
    "\n",
    "   best.fit = NULL\n",
    "\n",
    "   best.ic = 1e9\n",
    "   for( rr in res )\n",
    "   {\n",
    "      if( !is.null( rr ) )\n",
    "      {\n",
    "         current.ic = rr@fit$ics[[ic]]\n",
    "         if( current.ic < best.ic )\n",
    "         {\n",
    "            best.ic = current.ic\n",
    "            best.fit = rr\n",
    "         }\n",
    "      }\n",
    "   }\n",
    "\n",
    "   if( best.ic < 1e9 )\n",
    "   {\n",
    "      return( best.fit )\n",
    "   }\n",
    "\n",
    "   return( NULL )\n",
    "}"
   ]
  },
  {
   "cell_type": "code",
   "execution_count": 38,
   "metadata": {},
   "outputs": [],
   "source": [
    "quant_tools_to_xts <- function(df, ...){\n",
    "    df <- as.data.frame(df) \n",
    "    #df$date = as.Date(df$date) \n",
    "    ts = xts(df[,-1], order.by = df[,1]) \n",
    "    return(ts) }"
   ]
  },
  {
   "cell_type": "markdown",
   "metadata": {},
   "source": [
    "#### Скачиваю данные с финама"
   ]
  },
  {
   "cell_type": "code",
   "execution_count": 131,
   "metadata": {},
   "outputs": [],
   "source": [
    "USDRUB <- get_finam_data('USDRUB',  from = '2015-01-01', to = Sys.Date())"
   ]
  },
  {
   "cell_type": "code",
   "execution_count": 132,
   "metadata": {},
   "outputs": [],
   "source": [
    "USDRUB <- quant_tools_to_xts(USDRUB) "
   ]
  },
  {
   "cell_type": "code",
   "execution_count": 133,
   "metadata": {},
   "outputs": [
    {
     "data": {
      "text/plain": [
       "\n",
       "\tAugmented Dickey-Fuller Test\n",
       "\n",
       "data:  USDRUB$close\n",
       "Dickey-Fuller = -1.83, Lag order = 12, p-value = 0.6503\n",
       "alternative hypothesis: stationary\n"
      ]
     },
     "metadata": {},
     "output_type": "display_data"
    }
   ],
   "source": [
    "adf.test(USDRUB$close)"
   ]
  },
  {
   "cell_type": "markdown",
   "metadata": {},
   "source": [
    "#### Ряд (ожидаемо) нестационарен, будем делать его стационарным "
   ]
  },
  {
   "cell_type": "code",
   "execution_count": 136,
   "metadata": {},
   "outputs": [],
   "source": [
    "USDRUB.rtn <- diff(log(USDRUB$close))[-1,] #сразу первую строку, в которой будет NA "
   ]
  },
  {
   "cell_type": "code",
   "execution_count": 137,
   "metadata": {},
   "outputs": [
    {
     "name": "stderr",
     "output_type": "stream",
     "text": [
      "Warning message in adf.test(USDRUB.rtn):\n",
      "\"p-value smaller than printed p-value\""
     ]
    },
    {
     "data": {
      "text/plain": [
       "\n",
       "\tAugmented Dickey-Fuller Test\n",
       "\n",
       "data:  USDRUB.rtn\n",
       "Dickey-Fuller = -11.058, Lag order = 12, p-value = 0.01\n",
       "alternative hypothesis: stationary\n"
      ]
     },
     "metadata": {},
     "output_type": "display_data"
    }
   ],
   "source": [
    "adf.test(USDRUB.rtn)"
   ]
  },
  {
   "cell_type": "markdown",
   "metadata": {},
   "source": [
    "#### Далее работаем со стационарным рядом "
   ]
  },
  {
   "cell_type": "code",
   "execution_count": 180,
   "metadata": {
    "scrolled": true
   },
   "outputs": [],
   "source": [
    "m1 <- garchAuto(USDRUB.rtn, with.forecast = TRUE, forecast.length = 10)"
   ]
  },
  {
   "cell_type": "code",
   "execution_count": 197,
   "metadata": {},
   "outputs": [
    {
     "ename": "ERROR",
     "evalue": "Error in a_vec[(i - 1):(i - u2)]: только нули могут смешиваться с отрицательными индексами\n",
     "output_type": "error",
     "traceback": [
      "Error in a_vec[(i - 1):(i - u2)]: только нули могут смешиваться с отрицательными индексами\nTraceback:\n",
      "1. predict(m1)",
      "2. predict(m1)",
      "3. .local(object, ...)"
     ]
    }
   ],
   "source": [
    "predict(m1)"
   ]
  },
  {
   "cell_type": "markdown",
   "metadata": {},
   "source": [
    "#### Такая функция занимает немало времени, потому что она строит большое количество моделей и потом выбирает лучшую по критерию Акаике\n"
   ]
  },
  {
   "cell_type": "markdown",
   "metadata": {},
   "source": [
    "#### Такие модели не умеют давать долгосрочный прогноз, поэтому напишем цикл, который бы делал прогноз на каждый последующий день, причем каждый раз обновляя тренировочную выборку реальным значения лог-доходности курса. Иными словами, мы не продолжаем строить модель с учетом предсказанного значения, а заменяем его реальным и получаем прогноз на следющий день "
   ]
  },
  {
   "cell_type": "code",
   "execution_count": 201,
   "metadata": {},
   "outputs": [],
   "source": [
    "n <- nrow(USDRUB.rtn) #объем всей выборки\n",
    "k <- NULL\n",
    "k <- as.data.frame(k) #cоздал дата-фрейм, в который буду \"складывать\" свои краткосрочные прогнозы\n",
    "b <- 100 #количество дней, на которое делаем прогноз\n",
    "n1 <- (n-b+1)\n",
    "for (i in n1:n) #так как цикл учитывает первое и последнее значения в скобках, то интервал i будет именно такой \n",
    "    {\n",
    "    train <- USDRUB.rtn[-c(i:n),] #дополняем каждый раз нашу тренировочную выборку\n",
    "    m1 <- garchAuto(train, with.forecast = TRUE, forecast.length = 10) #каждый раз выбирает лучшую модель\n",
    "    k[(i-n1+1),1] <- as.numeric(predict(m1)[1,1]) #записываем прогнозы по очереди в наш дата-фрейм\n",
    "    }"
   ]
  },
  {
   "cell_type": "code",
   "execution_count": 210,
   "metadata": {},
   "outputs": [],
   "source": [
    "c <- cbind(USDRUB.rtn[n1:n], k$V1) #объединим реальные значения и предсказанные \n",
    "# c$k.V1 <- c$k.V1*sd(ALL1$N225.Adjusted[-c((1:(n-300)),(n-149):n)])/sd(c$k.V1) \n",
    "# Есть еще такой финт, что мы делаем СКО на прогнозе такой же, как и на самом временном ряду \n",
    "colnames(c)<- c('REAL', 'PRED') #для удобства переименуем столбцы"
   ]
  },
  {
   "cell_type": "markdown",
   "metadata": {},
   "source": [
    "#### Когда речь идет о прогнозировании валютного курса, неважно абсолютное его значение, как именно изменение, которое с ним произойдет. Поэтому посчитаю куммулятивную лог-доходность и посмотрю на график"
   ]
  },
  {
   "cell_type": "code",
   "execution_count": 211,
   "metadata": {},
   "outputs": [],
   "source": [
    "p <- NULL\n",
    "p <- as.data.frame(p) #пустой фрейм для не\n",
    "p[1,1] <- USDRUB$close[(n1)] #реальные значения курса\n",
    "p[1,2] <- USDRUB$close[(n1)]"
   ]
  },
  {
   "cell_type": "code",
   "execution_count": 212,
   "metadata": {},
   "outputs": [],
   "source": [
    "c <- exp(c)\n",
    "colnames(p) <- c('REAL' , 'PRED')\n",
    "data <- rbind(p, c)"
   ]
  },
  {
   "cell_type": "code",
   "execution_count": 214,
   "metadata": {},
   "outputs": [
    {
     "data": {
      "text/html": [
       "<table>\n",
       "<thead><tr><th scope=col>REAL</th><th scope=col>PRED</th><th scope=col>V3</th><th scope=col>V4</th></tr></thead>\n",
       "<tbody>\n",
       "\t<tr><td>53.23530</td><td>53.2353 </td><td>NA      </td><td>NA      </td></tr>\n",
       "\t<tr><td>53.16235</td><td>53.2325 </td><td> 0      </td><td> 0      </td></tr>\n",
       "\t<tr><td>53.06787</td><td>53.16155</td><td> 0      </td><td> 0      </td></tr>\n",
       "\t<tr><td>52.87162</td><td>53.06391</td><td> 0      </td><td> 0      </td></tr>\n",
       "\t<tr><td>52.74492</td><td>52.88246</td><td> 0      </td><td> 0      </td></tr>\n",
       "\t<tr><td>52.70600</td><td>52.75317</td><td> 0      </td><td> 0      </td></tr>\n",
       "\t<tr><td>52.74741</td><td>52.70769</td><td> 1      </td><td> 0      </td></tr>\n",
       "\t<tr><td>52.58180</td><td>52.74615</td><td> 0      </td><td> 1      </td></tr>\n",
       "\t<tr><td>52.58180</td><td>52.59249</td><td> 0      </td><td> 0      </td></tr>\n",
       "\t<tr><td>52.40666</td><td>52.57909</td><td> 0      </td><td> 0      </td></tr>\n",
       "\t<tr><td>51.91156</td><td>52.41253</td><td> 0      </td><td> 0      </td></tr>\n",
       "\t<tr><td>52.03461</td><td>51.94507</td><td> 1      </td><td> 0      </td></tr>\n",
       "\t<tr><td>52.00646</td><td>52.02451</td><td> 0      </td><td> 1      </td></tr>\n",
       "\t<tr><td>51.73510</td><td>52.00747</td><td> 0      </td><td> 0      </td></tr>\n",
       "\t<tr><td>51.69991</td><td>51.76073</td><td> 0      </td><td> 0      </td></tr>\n",
       "\t<tr><td>51.89682</td><td>51.69605</td><td> 1      </td><td> 0      </td></tr>\n",
       "\t<tr><td>51.59226</td><td>51.87772</td><td> 0      </td><td> 1      </td></tr>\n",
       "\t<tr><td>51.52436</td><td>51.61253</td><td> 0      </td><td> 0      </td></tr>\n",
       "\t<tr><td>51.69701</td><td>51.52579</td><td> 1      </td><td> 0      </td></tr>\n",
       "\t<tr><td>51.58647</td><td>51.67454</td><td> 0      </td><td> 1      </td></tr>\n",
       "\t<tr><td>51.31354</td><td>51.59316</td><td> 0      </td><td> 0      </td></tr>\n",
       "\t<tr><td>51.22179</td><td>51.32841</td><td> 0      </td><td> 0      </td></tr>\n",
       "\t<tr><td>51.48255</td><td>51.21914</td><td> 1      </td><td> 0      </td></tr>\n",
       "\t<tr><td>51.34964</td><td>51.46119</td><td> 0      </td><td> 1      </td></tr>\n",
       "\t<tr><td>51.40968</td><td>51.35672</td><td> 1      </td><td> 0      </td></tr>\n",
       "\t<tr><td>51.32828</td><td>51.40193</td><td> 0      </td><td> 1      </td></tr>\n",
       "\t<tr><td>51.25748</td><td>51.31984</td><td> 0      </td><td> 0      </td></tr>\n",
       "\t<tr><td>51.22080</td><td>51.25761</td><td> 0      </td><td> 0      </td></tr>\n",
       "\t<tr><td>51.07059</td><td>51.21518</td><td> 0      </td><td> 0      </td></tr>\n",
       "\t<tr><td>51.41696</td><td>51.07538</td><td> 1      </td><td> 0      </td></tr>\n",
       "\t<tr><td>...</td><td>...</td><td>...</td><td>...</td></tr>\n",
       "\t<tr><td>53.03350</td><td>53.08957</td><td>0       </td><td>1       </td></tr>\n",
       "\t<tr><td>53.23389</td><td>53.02345</td><td>1       </td><td>0       </td></tr>\n",
       "\t<tr><td>54.11909</td><td>53.21757</td><td>1       </td><td>1       </td></tr>\n",
       "\t<tr><td>54.07553</td><td>54.03738</td><td>0       </td><td>1       </td></tr>\n",
       "\t<tr><td>54.20893</td><td>54.06656</td><td>1       </td><td>1       </td></tr>\n",
       "\t<tr><td>54.90732</td><td>54.18593</td><td>1       </td><td>1       </td></tr>\n",
       "\t<tr><td>55.24086</td><td>54.8288 </td><td>1       </td><td>1       </td></tr>\n",
       "\t<tr><td>55.51942</td><td>55.20681</td><td>1       </td><td>1       </td></tr>\n",
       "\t<tr><td>54.96992</td><td>55.48998</td><td>0       </td><td>1       </td></tr>\n",
       "\t<tr><td>54.81019</td><td>54.97974</td><td>0       </td><td>0       </td></tr>\n",
       "\t<tr><td>54.81424</td><td>54.80648</td><td>1       </td><td>0       </td></tr>\n",
       "\t<tr><td>55.93627</td><td>54.80209</td><td>1       </td><td>0       </td></tr>\n",
       "\t<tr><td>56.74710</td><td>55.87026</td><td>1       </td><td>1       </td></tr>\n",
       "\t<tr><td>59.65541</td><td>56.68474</td><td>1       </td><td>1       </td></tr>\n",
       "\t<tr><td>61.65766</td><td>59.44564</td><td>1       </td><td>1       </td></tr>\n",
       "\t<tr><td>58.99843</td><td>61.4648 </td><td>0       </td><td>1       </td></tr>\n",
       "\t<tr><td>59.99426</td><td>59.11828</td><td>1       </td><td>0       </td></tr>\n",
       "\t<tr><td>62.09049</td><td>59.85034</td><td>1       </td><td>1       </td></tr>\n",
       "\t<tr><td>59.97678</td><td>61.87507</td><td>0       </td><td>1       </td></tr>\n",
       "\t<tr><td>60.66681</td><td>60.15923</td><td>1       </td><td>0       </td></tr>\n",
       "\t<tr><td>61.49942</td><td>60.60704</td><td>1       </td><td>1       </td></tr>\n",
       "\t<tr><td>62.20807</td><td>61.37365</td><td>1       </td><td>1       </td></tr>\n",
       "\t<tr><td>67.14107</td><td>62.1971 </td><td>1       </td><td>1       </td></tr>\n",
       "\t<tr><td>65.34385</td><td>66.77546</td><td>0       </td><td>1       </td></tr>\n",
       "\t<tr><td>66.25629</td><td>65.40127</td><td>1       </td><td>0       </td></tr>\n",
       "\t<tr><td>66.64084</td><td>66.17261</td><td>1       </td><td>1       </td></tr>\n",
       "\t<tr><td>65.71987</td><td>66.47037</td><td>0       </td><td>1       </td></tr>\n",
       "\t<tr><td>64.75883</td><td>65.80452</td><td>0       </td><td>0       </td></tr>\n",
       "\t<tr><td>64.84014</td><td>64.8033 </td><td>1       </td><td>0       </td></tr>\n",
       "\t<tr><td>64.34447</td><td>64.8206 </td><td>0       </td><td>1       </td></tr>\n",
       "</tbody>\n",
       "</table>\n"
      ],
      "text/latex": [
       "\\begin{tabular}{r|llll}\n",
       " REAL & PRED & V3 & V4\\\\\n",
       "\\hline\n",
       "\t 53.23530 & 53.2353  & NA       & NA      \\\\\n",
       "\t 53.16235 & 53.2325  &  0       &  0      \\\\\n",
       "\t 53.06787 & 53.16155 &  0       &  0      \\\\\n",
       "\t 52.87162 & 53.06391 &  0       &  0      \\\\\n",
       "\t 52.74492 & 52.88246 &  0       &  0      \\\\\n",
       "\t 52.70600 & 52.75317 &  0       &  0      \\\\\n",
       "\t 52.74741 & 52.70769 &  1       &  0      \\\\\n",
       "\t 52.58180 & 52.74615 &  0       &  1      \\\\\n",
       "\t 52.58180 & 52.59249 &  0       &  0      \\\\\n",
       "\t 52.40666 & 52.57909 &  0       &  0      \\\\\n",
       "\t 51.91156 & 52.41253 &  0       &  0      \\\\\n",
       "\t 52.03461 & 51.94507 &  1       &  0      \\\\\n",
       "\t 52.00646 & 52.02451 &  0       &  1      \\\\\n",
       "\t 51.73510 & 52.00747 &  0       &  0      \\\\\n",
       "\t 51.69991 & 51.76073 &  0       &  0      \\\\\n",
       "\t 51.89682 & 51.69605 &  1       &  0      \\\\\n",
       "\t 51.59226 & 51.87772 &  0       &  1      \\\\\n",
       "\t 51.52436 & 51.61253 &  0       &  0      \\\\\n",
       "\t 51.69701 & 51.52579 &  1       &  0      \\\\\n",
       "\t 51.58647 & 51.67454 &  0       &  1      \\\\\n",
       "\t 51.31354 & 51.59316 &  0       &  0      \\\\\n",
       "\t 51.22179 & 51.32841 &  0       &  0      \\\\\n",
       "\t 51.48255 & 51.21914 &  1       &  0      \\\\\n",
       "\t 51.34964 & 51.46119 &  0       &  1      \\\\\n",
       "\t 51.40968 & 51.35672 &  1       &  0      \\\\\n",
       "\t 51.32828 & 51.40193 &  0       &  1      \\\\\n",
       "\t 51.25748 & 51.31984 &  0       &  0      \\\\\n",
       "\t 51.22080 & 51.25761 &  0       &  0      \\\\\n",
       "\t 51.07059 & 51.21518 &  0       &  0      \\\\\n",
       "\t 51.41696 & 51.07538 &  1       &  0      \\\\\n",
       "\t ... & ... & ... & ...\\\\\n",
       "\t 53.03350 & 53.08957 & 0        & 1       \\\\\n",
       "\t 53.23389 & 53.02345 & 1        & 0       \\\\\n",
       "\t 54.11909 & 53.21757 & 1        & 1       \\\\\n",
       "\t 54.07553 & 54.03738 & 0        & 1       \\\\\n",
       "\t 54.20893 & 54.06656 & 1        & 1       \\\\\n",
       "\t 54.90732 & 54.18593 & 1        & 1       \\\\\n",
       "\t 55.24086 & 54.8288  & 1        & 1       \\\\\n",
       "\t 55.51942 & 55.20681 & 1        & 1       \\\\\n",
       "\t 54.96992 & 55.48998 & 0        & 1       \\\\\n",
       "\t 54.81019 & 54.97974 & 0        & 0       \\\\\n",
       "\t 54.81424 & 54.80648 & 1        & 0       \\\\\n",
       "\t 55.93627 & 54.80209 & 1        & 0       \\\\\n",
       "\t 56.74710 & 55.87026 & 1        & 1       \\\\\n",
       "\t 59.65541 & 56.68474 & 1        & 1       \\\\\n",
       "\t 61.65766 & 59.44564 & 1        & 1       \\\\\n",
       "\t 58.99843 & 61.4648  & 0        & 1       \\\\\n",
       "\t 59.99426 & 59.11828 & 1        & 0       \\\\\n",
       "\t 62.09049 & 59.85034 & 1        & 1       \\\\\n",
       "\t 59.97678 & 61.87507 & 0        & 1       \\\\\n",
       "\t 60.66681 & 60.15923 & 1        & 0       \\\\\n",
       "\t 61.49942 & 60.60704 & 1        & 1       \\\\\n",
       "\t 62.20807 & 61.37365 & 1        & 1       \\\\\n",
       "\t 67.14107 & 62.1971  & 1        & 1       \\\\\n",
       "\t 65.34385 & 66.77546 & 0        & 1       \\\\\n",
       "\t 66.25629 & 65.40127 & 1        & 0       \\\\\n",
       "\t 66.64084 & 66.17261 & 1        & 1       \\\\\n",
       "\t 65.71987 & 66.47037 & 0        & 1       \\\\\n",
       "\t 64.75883 & 65.80452 & 0        & 0       \\\\\n",
       "\t 64.84014 & 64.8033  & 1        & 0       \\\\\n",
       "\t 64.34447 & 64.8206  & 0        & 1       \\\\\n",
       "\\end{tabular}\n"
      ],
      "text/markdown": [
       "\n",
       "| REAL | PRED | V3 | V4 |\n",
       "|---|---|---|---|\n",
       "| 53.23530 | 53.2353  | NA       | NA       |\n",
       "| 53.16235 | 53.2325  |  0       |  0       |\n",
       "| 53.06787 | 53.16155 |  0       |  0       |\n",
       "| 52.87162 | 53.06391 |  0       |  0       |\n",
       "| 52.74492 | 52.88246 |  0       |  0       |\n",
       "| 52.70600 | 52.75317 |  0       |  0       |\n",
       "| 52.74741 | 52.70769 |  1       |  0       |\n",
       "| 52.58180 | 52.74615 |  0       |  1       |\n",
       "| 52.58180 | 52.59249 |  0       |  0       |\n",
       "| 52.40666 | 52.57909 |  0       |  0       |\n",
       "| 51.91156 | 52.41253 |  0       |  0       |\n",
       "| 52.03461 | 51.94507 |  1       |  0       |\n",
       "| 52.00646 | 52.02451 |  0       |  1       |\n",
       "| 51.73510 | 52.00747 |  0       |  0       |\n",
       "| 51.69991 | 51.76073 |  0       |  0       |\n",
       "| 51.89682 | 51.69605 |  1       |  0       |\n",
       "| 51.59226 | 51.87772 |  0       |  1       |\n",
       "| 51.52436 | 51.61253 |  0       |  0       |\n",
       "| 51.69701 | 51.52579 |  1       |  0       |\n",
       "| 51.58647 | 51.67454 |  0       |  1       |\n",
       "| 51.31354 | 51.59316 |  0       |  0       |\n",
       "| 51.22179 | 51.32841 |  0       |  0       |\n",
       "| 51.48255 | 51.21914 |  1       |  0       |\n",
       "| 51.34964 | 51.46119 |  0       |  1       |\n",
       "| 51.40968 | 51.35672 |  1       |  0       |\n",
       "| 51.32828 | 51.40193 |  0       |  1       |\n",
       "| 51.25748 | 51.31984 |  0       |  0       |\n",
       "| 51.22080 | 51.25761 |  0       |  0       |\n",
       "| 51.07059 | 51.21518 |  0       |  0       |\n",
       "| 51.41696 | 51.07538 |  1       |  0       |\n",
       "| ... | ... | ... | ... |\n",
       "| 53.03350 | 53.08957 | 0        | 1        |\n",
       "| 53.23389 | 53.02345 | 1        | 0        |\n",
       "| 54.11909 | 53.21757 | 1        | 1        |\n",
       "| 54.07553 | 54.03738 | 0        | 1        |\n",
       "| 54.20893 | 54.06656 | 1        | 1        |\n",
       "| 54.90732 | 54.18593 | 1        | 1        |\n",
       "| 55.24086 | 54.8288  | 1        | 1        |\n",
       "| 55.51942 | 55.20681 | 1        | 1        |\n",
       "| 54.96992 | 55.48998 | 0        | 1        |\n",
       "| 54.81019 | 54.97974 | 0        | 0        |\n",
       "| 54.81424 | 54.80648 | 1        | 0        |\n",
       "| 55.93627 | 54.80209 | 1        | 0        |\n",
       "| 56.74710 | 55.87026 | 1        | 1        |\n",
       "| 59.65541 | 56.68474 | 1        | 1        |\n",
       "| 61.65766 | 59.44564 | 1        | 1        |\n",
       "| 58.99843 | 61.4648  | 0        | 1        |\n",
       "| 59.99426 | 59.11828 | 1        | 0        |\n",
       "| 62.09049 | 59.85034 | 1        | 1        |\n",
       "| 59.97678 | 61.87507 | 0        | 1        |\n",
       "| 60.66681 | 60.15923 | 1        | 0        |\n",
       "| 61.49942 | 60.60704 | 1        | 1        |\n",
       "| 62.20807 | 61.37365 | 1        | 1        |\n",
       "| 67.14107 | 62.1971  | 1        | 1        |\n",
       "| 65.34385 | 66.77546 | 0        | 1        |\n",
       "| 66.25629 | 65.40127 | 1        | 0        |\n",
       "| 66.64084 | 66.17261 | 1        | 1        |\n",
       "| 65.71987 | 66.47037 | 0        | 1        |\n",
       "| 64.75883 | 65.80452 | 0        | 0        |\n",
       "| 64.84014 | 64.8033  | 1        | 0        |\n",
       "| 64.34447 | 64.8206  | 0        | 1        |\n",
       "\n"
      ],
      "text/plain": [
       "    REAL     PRED     V3  V4 \n",
       "1   53.23530 53.2353  NA  NA \n",
       "2   53.16235 53.2325   0   0 \n",
       "3   53.06787 53.16155  0   0 \n",
       "4   52.87162 53.06391  0   0 \n",
       "5   52.74492 52.88246  0   0 \n",
       "6   52.70600 52.75317  0   0 \n",
       "7   52.74741 52.70769  1   0 \n",
       "8   52.58180 52.74615  0   1 \n",
       "9   52.58180 52.59249  0   0 \n",
       "10  52.40666 52.57909  0   0 \n",
       "11  51.91156 52.41253  0   0 \n",
       "12  52.03461 51.94507  1   0 \n",
       "13  52.00646 52.02451  0   1 \n",
       "14  51.73510 52.00747  0   0 \n",
       "15  51.69991 51.76073  0   0 \n",
       "16  51.89682 51.69605  1   0 \n",
       "17  51.59226 51.87772  0   1 \n",
       "18  51.52436 51.61253  0   0 \n",
       "19  51.69701 51.52579  1   0 \n",
       "20  51.58647 51.67454  0   1 \n",
       "21  51.31354 51.59316  0   0 \n",
       "22  51.22179 51.32841  0   0 \n",
       "23  51.48255 51.21914  1   0 \n",
       "24  51.34964 51.46119  0   1 \n",
       "25  51.40968 51.35672  1   0 \n",
       "26  51.32828 51.40193  0   1 \n",
       "27  51.25748 51.31984  0   0 \n",
       "28  51.22080 51.25761  0   0 \n",
       "29  51.07059 51.21518  0   0 \n",
       "30  51.41696 51.07538  1   0 \n",
       "... ...      ...      ... ...\n",
       "72  53.03350 53.08957 0   1  \n",
       "73  53.23389 53.02345 1   0  \n",
       "74  54.11909 53.21757 1   1  \n",
       "75  54.07553 54.03738 0   1  \n",
       "76  54.20893 54.06656 1   1  \n",
       "77  54.90732 54.18593 1   1  \n",
       "78  55.24086 54.8288  1   1  \n",
       "79  55.51942 55.20681 1   1  \n",
       "80  54.96992 55.48998 0   1  \n",
       "81  54.81019 54.97974 0   0  \n",
       "82  54.81424 54.80648 1   0  \n",
       "83  55.93627 54.80209 1   0  \n",
       "84  56.74710 55.87026 1   1  \n",
       "85  59.65541 56.68474 1   1  \n",
       "86  61.65766 59.44564 1   1  \n",
       "87  58.99843 61.4648  0   1  \n",
       "88  59.99426 59.11828 1   0  \n",
       "89  62.09049 59.85034 1   1  \n",
       "90  59.97678 61.87507 0   1  \n",
       "91  60.66681 60.15923 1   0  \n",
       "92  61.49942 60.60704 1   1  \n",
       "93  62.20807 61.37365 1   1  \n",
       "94  67.14107 62.1971  1   1  \n",
       "95  65.34385 66.77546 0   1  \n",
       "96  66.25629 65.40127 1   0  \n",
       "97  66.64084 66.17261 1   1  \n",
       "98  65.71987 66.47037 0   1  \n",
       "99  64.75883 65.80452 0   0  \n",
       "100 64.84014 64.8033  1   0  \n",
       "101 64.34447 64.8206  0   1  "
      ]
     },
     "metadata": {},
     "output_type": "display_data"
    }
   ],
   "source": [
    "data"
   ]
  },
  {
   "cell_type": "code",
   "execution_count": 213,
   "metadata": {},
   "outputs": [
    {
     "ename": "ERROR",
     "evalue": "Error in eval(expr, envir, enclos): объект (список) не может быть преобразован в тип 'double'\n",
     "output_type": "error",
     "traceback": [
      "Error in eval(expr, envir, enclos): объект (список) не может быть преобразован в тип 'double'\nTraceback:\n"
     ]
    }
   ],
   "source": [
    "rownames(data) <- NULL\n",
    "data <- as.data.frame(data)\n",
    "data$REAL <- cumprod(data$REAL) #тут, грубо говоря, перехожу обратно с абсолютным значениям\n",
    "for (i in 1:b)\n",
    "    {data$PRED[i+1] <- as.numeric(as.numeric(data[(i+1),2])*as.numeric(data[i,1]))\n",
    "} #прогнозы в абсолютных значениях\n",
    "for (i in 2:(b+1)) { \n",
    "    data[i,3] <- as.numeric(data[i,1]>as.numeric(data[(i-1),1]))\n",
    "    } #увеличилось ли курс на следующий день?\n",
    "for (i in 2:151) { \n",
    "    data[i,4] <- as.numeric(data[i,2]>as.numeric(data[(i-1),2]))\n",
    "    } #прогноз предсказывал увеличение курса на следующий день?"
   ]
  },
  {
   "cell_type": "code",
   "execution_count": 216,
   "metadata": {},
   "outputs": [],
   "source": [
    "data <- data[-1,] #удалим обратно строчку абсолютных значений, которую мы добавляли до этого "
   ]
  },
  {
   "cell_type": "code",
   "execution_count": 218,
   "metadata": {},
   "outputs": [
    {
     "data": {
      "text/html": [
       "0.51"
      ],
      "text/latex": [
       "0.51"
      ],
      "text/markdown": [
       "0.51"
      ],
      "text/plain": [
       "[1] 0.51"
      ]
     },
     "metadata": {},
     "output_type": "display_data"
    }
   ],
   "source": [
    "data[,5] <- as.numeric(data$V3==data$V4) #прогноз угадал? \n",
    "sum(data$V5)/nrow(data) #доля угаданных движений курса"
   ]
  },
  {
   "cell_type": "code",
   "execution_count": 219,
   "metadata": {},
   "outputs": [
    {
     "data": {
      "image/png": "[encoded data removed]",
      "text/plain": [
       "Plot with title \"USD/RUB\""
      ]
     },
     "metadata": {},
     "output_type": "display_data"
    }
   ],
   "source": [
    "plot(data$REAL, x = index(data$REAL),t = 'l', col ='red', main = 'USD/RUB',\n",
    "     sub = paste0('Accuracy=', sum(data$V5)/nrow(data)), xlab = 'time', ylab='Cumulative Value' )\n",
    "lines(data$PRED, x = index(data$PRED),col = 'blue')\n",
    "legend(\"topleft\", c(\"REAL\",\"PREDICTION\"), fill=c(\"red\",\"blue\"))"
   ]
  },
  {
   "cell_type": "markdown",
   "metadata": {},
   "source": [
    "#### Как видно на графике, модель нам предсказывала такую же лог-доходность, которая была в последний день. Иными словами, получаем прогноз no change. Значит, скорее всего, есть какой-то определяющий фактор для курса.Теперь попробуем VAR модель "
   ]
  },
  {
   "cell_type": "code",
   "execution_count": 221,
   "metadata": {},
   "outputs": [],
   "source": [
    "BRENT <- get_finam_data('ICE.BRN',  from = '2015-01-01', to = Sys.Date())"
   ]
  },
  {
   "cell_type": "code",
   "execution_count": 223,
   "metadata": {
    "scrolled": true
   },
   "outputs": [],
   "source": [
    "BRENT <- quant_tools_to_xts(BRENT)"
   ]
  },
  {
   "cell_type": "code",
   "execution_count": 230,
   "metadata": {},
   "outputs": [
    {
     "data": {
      "image/png": "[encoded data removed]",
      "text/plain": [
       "plot without title"
      ]
     },
     "metadata": {},
     "output_type": "display_data"
    },
    {
     "data": {
      "image/png": "[encoded data removed]",
      "text/plain": [
       "plot without title"
      ]
     },
     "metadata": {},
     "output_type": "display_data"
    }
   ],
   "source": [
    "plot(x = BRENT$close, col = 'red')\n",
    "lines( x = USDRUB$close, col = 'blue')"
   ]
  },
  {
   "cell_type": "code",
   "execution_count": 231,
   "metadata": {},
   "outputs": [
    {
     "data": {
      "text/plain": [
       "\n",
       "\tAugmented Dickey-Fuller Test\n",
       "\n",
       "data:  BRENT$close\n",
       "Dickey-Fuller = -1.1667, Lag order = 11, p-value = 0.9118\n",
       "alternative hypothesis: stationary\n"
      ]
     },
     "metadata": {},
     "output_type": "display_data"
    }
   ],
   "source": [
    "adf.test(BRENT$close)"
   ]
  },
  {
   "cell_type": "code",
   "execution_count": 232,
   "metadata": {},
   "outputs": [],
   "source": [
    "BRENT.rtn <- diff(log(BRENT$close))[-1,]"
   ]
  },
  {
   "cell_type": "code",
   "execution_count": 233,
   "metadata": {},
   "outputs": [
    {
     "name": "stderr",
     "output_type": "stream",
     "text": [
      "Warning message in adf.test(BRENT.rtn):\n",
      "\"p-value smaller than printed p-value\""
     ]
    },
    {
     "data": {
      "text/plain": [
       "\n",
       "\tAugmented Dickey-Fuller Test\n",
       "\n",
       "data:  BRENT.rtn\n",
       "Dickey-Fuller = -9.75, Lag order = 11, p-value = 0.01\n",
       "alternative hypothesis: stationary\n"
      ]
     },
     "metadata": {},
     "output_type": "display_data"
    }
   ],
   "source": [
    "adf.test(BRENT.rtn)"
   ]
  },
  {
   "cell_type": "markdown",
   "metadata": {},
   "source": [
    "#### Также нужно закачать ставку межбанковского кредитования рассчитаную на один день, сделаем это ручную.\n",
    "#### P.S. На сайте ЦБ нашел несколько факторов, у которых возможно была бы какая-нибудь предсказательная сила для курса. Попроубем \"нащупать\" такую связь."
   ]
  },
  {
   "cell_type": "code",
   "execution_count": 280,
   "metadata": {},
   "outputs": [
    {
     "name": "stdout",
     "output_type": "stream",
     "text": [
      "package 'readxl' successfully unpacked and MD5 sums checked\n",
      "\n",
      "The downloaded binary packages are in\n",
      "\tC:\\Temp\\Rtmpwz4Vbx\\downloaded_packages\n"
     ]
    }
   ],
   "source": [
    "install.packages('readxl')"
   ]
  },
  {
   "cell_type": "code",
   "execution_count": 281,
   "metadata": {
    "collapsed": true
   },
   "outputs": [
    {
     "name": "stderr",
     "output_type": "stream",
     "text": [
      "Warning message:\n",
      "\"package 'readxl' was built under R version 3.6.3\""
     ]
    }
   ],
   "source": [
    "library(readxl)"
   ]
  },
  {
   "cell_type": "code",
   "execution_count": 428,
   "metadata": {
    "collapsed": true
   },
   "outputs": [
    {
     "name": "stderr",
     "output_type": "stream",
     "text": [
      "Warning message in read_fun(path = enc2native(normalizePath(path)), sheet_i = sheet, :\n",
      "\"Expecting numeric in E19 / R19C5: got 'вЂ”'\"Warning message in read_fun(path = enc2native(normalizePath(path)), sheet_i = sheet, :\n",
      "\"Expecting numeric in I19 / R19C9: got 'вЂ”'\"Warning message in read_fun(path = enc2native(normalizePath(path)), sheet_i = sheet, :\n",
      "\"Expecting numeric in E24 / R24C5: got 'вЂ”'\"Warning message in read_fun(path = enc2native(normalizePath(path)), sheet_i = sheet, :\n",
      "\"Expecting numeric in I24 / R24C9: got 'вЂ”'\"Warning message in read_fun(path = enc2native(normalizePath(path)), sheet_i = sheet, :\n",
      "\"Expecting numeric in C27 / R27C3: got 'вЂ”'\"Warning message in read_fun(path = enc2native(normalizePath(path)), sheet_i = sheet, :\n",
      "\"Expecting numeric in G27 / R27C7: got 'вЂ”'\"Warning message in read_fun(path = enc2native(normalizePath(path)), sheet_i = sheet, :\n",
      "\"Expecting numeric in E30 / R30C5: got 'вЂ”'\"Warning message in read_fun(path = enc2native(normalizePath(path)), sheet_i = sheet, :\n",
      "\"Expecting numeric in I30 / R30C9: got 'вЂ”'\"Warning message in read_fun(path = enc2native(normalizePath(path)), sheet_i = sheet, :\n",
      "\"Expecting numeric in E31 / R31C5: got 'вЂ”'\"Warning message in read_fun(path = enc2native(normalizePath(path)), sheet_i = sheet, :\n",
      "\"Expecting numeric in I31 / R31C9: got 'вЂ”'\"Warning message in read_fun(path = enc2native(normalizePath(path)), sheet_i = sheet, :\n",
      "\"Expecting numeric in E32 / R32C5: got 'вЂ”'\"Warning message in read_fun(path = enc2native(normalizePath(path)), sheet_i = sheet, :\n",
      "\"Expecting numeric in I32 / R32C9: got 'вЂ”'\"Warning message in read_fun(path = enc2native(normalizePath(path)), sheet_i = sheet, :\n",
      "\"Expecting numeric in E38 / R38C5: got 'вЂ”'\"Warning message in read_fun(path = enc2native(normalizePath(path)), sheet_i = sheet, :\n",
      "\"Expecting numeric in I38 / R38C9: got 'вЂ”'\"Warning message in read_fun(path = enc2native(normalizePath(path)), sheet_i = sheet, :\n",
      "\"Expecting numeric in E42 / R42C5: got 'вЂ”'\"Warning message in read_fun(path = enc2native(normalizePath(path)), sheet_i = sheet, :\n",
      "\"Expecting numeric in I42 / R42C9: got 'вЂ”'\"Warning message in read_fun(path = enc2native(normalizePath(path)), sheet_i = sheet, :\n",
      "\"Expecting numeric in E44 / R44C5: got 'вЂ”'\"Warning message in read_fun(path = enc2native(normalizePath(path)), sheet_i = sheet, :\n",
      "\"Expecting numeric in I44 / R44C9: got 'вЂ”'\"Warning message in read_fun(path = enc2native(normalizePath(path)), sheet_i = sheet, :\n",
      "\"Expecting numeric in E46 / R46C5: got 'вЂ”'\"Warning message in read_fun(path = enc2native(normalizePath(path)), sheet_i = sheet, :\n",
      "\"Expecting numeric in I46 / R46C9: got 'вЂ”'\"Warning message in read_fun(path = enc2native(normalizePath(path)), sheet_i = sheet, :\n",
      "\"Expecting numeric in C47 / R47C3: got 'вЂ”'\"Warning message in read_fun(path = enc2native(normalizePath(path)), sheet_i = sheet, :\n",
      "\"Expecting numeric in E47 / R47C5: got 'вЂ”'\"Warning message in read_fun(path = enc2native(normalizePath(path)), sheet_i = sheet, :\n",
      "\"Expecting numeric in G47 / R47C7: got 'вЂ”'\"Warning message in read_fun(path = enc2native(normalizePath(path)), sheet_i = sheet, :\n",
      "\"Expecting numeric in I47 / R47C9: got 'вЂ”'\"Warning message in read_fun(path = enc2native(normalizePath(path)), sheet_i = sheet, :\n",
      "\"Expecting numeric in E48 / R48C5: got 'вЂ”'\"Warning message in read_fun(path = enc2native(normalizePath(path)), sheet_i = sheet, :\n",
      "\"Expecting numeric in I48 / R48C9: got 'вЂ”'\"Warning message in read_fun(path = enc2native(normalizePath(path)), sheet_i = sheet, :\n",
      "\"Expecting numeric in E49 / R49C5: got 'вЂ”'\"Warning message in read_fun(path = enc2native(normalizePath(path)), sheet_i = sheet, :\n",
      "\"Expecting numeric in I49 / R49C9: got 'вЂ”'\"Warning message in read_fun(path = enc2native(normalizePath(path)), sheet_i = sheet, :\n",
      "\"Expecting numeric in E50 / R50C5: got 'вЂ”'\"Warning message in read_fun(path = enc2native(normalizePath(path)), sheet_i = sheet, :\n",
      "\"Expecting numeric in I50 / R50C9: got 'вЂ”'\"Warning message in read_fun(path = enc2native(normalizePath(path)), sheet_i = sheet, :\n",
      "\"Expecting numeric in E51 / R51C5: got 'вЂ”'\"Warning message in read_fun(path = enc2native(normalizePath(path)), sheet_i = sheet, :\n",
      "\"Expecting numeric in I51 / R51C9: got 'вЂ”'\"Warning message in read_fun(path = enc2native(normalizePath(path)), sheet_i = sheet, :\n",
      "\"Expecting numeric in E52 / R52C5: got 'вЂ”'\"Warning message in read_fun(path = enc2native(normalizePath(path)), sheet_i = sheet, :\n",
      "\"Expecting numeric in I52 / R52C9: got 'вЂ”'\"Warning message in read_fun(path = enc2native(normalizePath(path)), sheet_i = sheet, :\n",
      "\"Expecting numeric in E53 / R53C5: got 'вЂ”'\"Warning message in read_fun(path = enc2native(normalizePath(path)), sheet_i = sheet, :\n",
      "\"Expecting numeric in I53 / R53C9: got 'вЂ”'\"Warning message in read_fun(path = enc2native(normalizePath(path)), sheet_i = sheet, :\n",
      "\"Expecting numeric in E54 / R54C5: got 'вЂ”'\"Warning message in read_fun(path = enc2native(normalizePath(path)), sheet_i = sheet, :\n",
      "\"Expecting numeric in I54 / R54C9: got 'вЂ”'\"Warning message in read_fun(path = enc2native(normalizePath(path)), sheet_i = sheet, :\n",
      "\"Expecting numeric in E55 / R55C5: got 'вЂ”'\"Warning message in read_fun(path = enc2native(normalizePath(path)), sheet_i = sheet, :\n",
      "\"Expecting numeric in I55 / R55C9: got 'вЂ”'\"Warning message in read_fun(path = enc2native(normalizePath(path)), sheet_i = sheet, :\n",
      "\"Expecting numeric in E57 / R57C5: got 'вЂ”'\"Warning message in read_fun(path = enc2native(normalizePath(path)), sheet_i = sheet, :\n",
      "\"Expecting numeric in I57 / R57C9: got 'вЂ”'\"Warning message in read_fun(path = enc2native(normalizePath(path)), sheet_i = sheet, :\n",
      "\"Expecting numeric in E58 / R58C5: got 'вЂ”'\"Warning message in read_fun(path = enc2native(normalizePath(path)), sheet_i = sheet, :\n",
      "\"Expecting numeric in I58 / R58C9: got 'вЂ”'\"Warning message in read_fun(path = enc2native(normalizePath(path)), sheet_i = sheet, :\n",
      "\"Expecting numeric in C59 / R59C3: got 'вЂ”'\"Warning message in read_fun(path = enc2native(normalizePath(path)), sheet_i = sheet, :\n",
      "\"Expecting numeric in E59 / R59C5: got 'вЂ”'\"Warning message in read_fun(path = enc2native(normalizePath(path)), sheet_i = sheet, :\n",
      "\"Expecting numeric in G59 / R59C7: got 'вЂ”'\"Warning message in read_fun(path = enc2native(normalizePath(path)), sheet_i = sheet, :\n",
      "\"Expecting numeric in I59 / R59C9: got 'вЂ”'\"Warning message in read_fun(path = enc2native(normalizePath(path)), sheet_i = sheet, :\n",
      "\"Expecting numeric in E60 / R60C5: got 'вЂ”'\"Warning message in read_fun(path = enc2native(normalizePath(path)), sheet_i = sheet, :\n",
      "\"Expecting numeric in I60 / R60C9: got 'вЂ”'\"Warning message in read_fun(path = enc2native(normalizePath(path)), sheet_i = sheet, :\n",
      "\"Expecting numeric in E61 / R61C5: got 'вЂ”'\"Warning message in read_fun(path = enc2native(normalizePath(path)), sheet_i = sheet, :\n",
      "\"Expecting numeric in I61 / R61C9: got 'вЂ”'\"Warning message in read_fun(path = enc2native(normalizePath(path)), sheet_i = sheet, :\n",
      "\"Expecting numeric in E62 / R62C5: got 'вЂ”'\"Warning message in read_fun(path = enc2native(normalizePath(path)), sheet_i = sheet, :\n",
      "\"Expecting numeric in I62 / R62C9: got 'вЂ”'\"Warning message in read_fun(path = enc2native(normalizePath(path)), sheet_i = sheet, :\n",
      "\"Expecting numeric in E64 / R64C5: got 'вЂ”'\"Warning message in read_fun(path = enc2native(normalizePath(path)), sheet_i = sheet, :\n",
      "\"Expecting numeric in I64 / R64C9: got 'вЂ”'\"Warning message in read_fun(path = enc2native(normalizePath(path)), sheet_i = sheet, :\n",
      "\"Expecting numeric in E65 / R65C5: got 'вЂ”'\"Warning message in read_fun(path = enc2native(normalizePath(path)), sheet_i = sheet, :\n",
      "\"Expecting numeric in I65 / R65C9: got 'вЂ”'\"Warning message in read_fun(path = enc2native(normalizePath(path)), sheet_i = sheet, :\n",
      "\"Expecting numeric in E66 / R66C5: got 'вЂ”'\"Warning message in read_fun(path = enc2native(normalizePath(path)), sheet_i = sheet, :\n",
      "\"Expecting numeric in I66 / R66C9: got 'вЂ”'\"Warning message in read_fun(path = enc2native(normalizePath(path)), sheet_i = sheet, :\n",
      "\"Expecting numeric in E67 / R67C5: got 'вЂ”'\"Warning message in read_fun(path = enc2native(normalizePath(path)), sheet_i = sheet, :\n",
      "\"Expecting numeric in I67 / R67C9: got 'вЂ”'\"Warning message in read_fun(path = enc2native(normalizePath(path)), sheet_i = sheet, :\n"
     ]
    },
    {
     "name": "stderr",
     "output_type": "stream",
     "text": [
      "\"Expecting numeric in E68 / R68C5: got 'вЂ”'\"Warning message in read_fun(path = enc2native(normalizePath(path)), sheet_i = sheet, :\n",
      "\"Expecting numeric in I68 / R68C9: got 'вЂ”'\"Warning message in read_fun(path = enc2native(normalizePath(path)), sheet_i = sheet, :\n",
      "\"Expecting numeric in E69 / R69C5: got 'вЂ”'\"Warning message in read_fun(path = enc2native(normalizePath(path)), sheet_i = sheet, :\n",
      "\"Expecting numeric in I69 / R69C9: got 'вЂ”'\"Warning message in read_fun(path = enc2native(normalizePath(path)), sheet_i = sheet, :\n",
      "\"Expecting numeric in E70 / R70C5: got 'вЂ”'\"Warning message in read_fun(path = enc2native(normalizePath(path)), sheet_i = sheet, :\n",
      "\"Expecting numeric in I70 / R70C9: got 'вЂ”'\"Warning message in read_fun(path = enc2native(normalizePath(path)), sheet_i = sheet, :\n",
      "\"Expecting numeric in E71 / R71C5: got 'вЂ”'\"Warning message in read_fun(path = enc2native(normalizePath(path)), sheet_i = sheet, :\n",
      "\"Expecting numeric in I71 / R71C9: got 'вЂ”'\"Warning message in read_fun(path = enc2native(normalizePath(path)), sheet_i = sheet, :\n",
      "\"Expecting numeric in E72 / R72C5: got 'вЂ”'\"Warning message in read_fun(path = enc2native(normalizePath(path)), sheet_i = sheet, :\n",
      "\"Expecting numeric in I72 / R72C9: got 'вЂ”'\"Warning message in read_fun(path = enc2native(normalizePath(path)), sheet_i = sheet, :\n",
      "\"Expecting numeric in E73 / R73C5: got 'вЂ”'\"Warning message in read_fun(path = enc2native(normalizePath(path)), sheet_i = sheet, :\n",
      "\"Expecting numeric in I73 / R73C9: got 'вЂ”'\"Warning message in read_fun(path = enc2native(normalizePath(path)), sheet_i = sheet, :\n",
      "\"Expecting numeric in E77 / R77C5: got 'вЂ”'\"Warning message in read_fun(path = enc2native(normalizePath(path)), sheet_i = sheet, :\n",
      "\"Expecting numeric in I77 / R77C9: got 'вЂ”'\"Warning message in read_fun(path = enc2native(normalizePath(path)), sheet_i = sheet, :\n",
      "\"Expecting numeric in C78 / R78C3: got 'вЂ”'\"Warning message in read_fun(path = enc2native(normalizePath(path)), sheet_i = sheet, :\n",
      "\"Expecting numeric in E78 / R78C5: got 'вЂ”'\"Warning message in read_fun(path = enc2native(normalizePath(path)), sheet_i = sheet, :\n",
      "\"Expecting numeric in G78 / R78C7: got 'вЂ”'\"Warning message in read_fun(path = enc2native(normalizePath(path)), sheet_i = sheet, :\n",
      "\"Expecting numeric in I78 / R78C9: got 'вЂ”'\"Warning message in read_fun(path = enc2native(normalizePath(path)), sheet_i = sheet, :\n",
      "\"Expecting numeric in E79 / R79C5: got 'вЂ”'\"Warning message in read_fun(path = enc2native(normalizePath(path)), sheet_i = sheet, :\n",
      "\"Expecting numeric in I79 / R79C9: got 'вЂ”'\"Warning message in read_fun(path = enc2native(normalizePath(path)), sheet_i = sheet, :\n",
      "\"Expecting numeric in E80 / R80C5: got 'вЂ”'\"Warning message in read_fun(path = enc2native(normalizePath(path)), sheet_i = sheet, :\n",
      "\"Expecting numeric in I80 / R80C9: got 'вЂ”'\"Warning message in read_fun(path = enc2native(normalizePath(path)), sheet_i = sheet, :\n",
      "\"Expecting numeric in E81 / R81C5: got 'вЂ”'\"Warning message in read_fun(path = enc2native(normalizePath(path)), sheet_i = sheet, :\n",
      "\"Expecting numeric in I81 / R81C9: got 'вЂ”'\"Warning message in read_fun(path = enc2native(normalizePath(path)), sheet_i = sheet, :\n",
      "\"Expecting numeric in E83 / R83C5: got 'вЂ”'\"Warning message in read_fun(path = enc2native(normalizePath(path)), sheet_i = sheet, :\n",
      "\"Expecting numeric in I83 / R83C9: got 'вЂ”'\"Warning message in read_fun(path = enc2native(normalizePath(path)), sheet_i = sheet, :\n",
      "\"Expecting numeric in E84 / R84C5: got 'вЂ”'\"Warning message in read_fun(path = enc2native(normalizePath(path)), sheet_i = sheet, :\n",
      "\"Expecting numeric in I84 / R84C9: got 'вЂ”'\"Warning message in read_fun(path = enc2native(normalizePath(path)), sheet_i = sheet, :\n",
      "\"Expecting numeric in E85 / R85C5: got 'вЂ”'\"Warning message in read_fun(path = enc2native(normalizePath(path)), sheet_i = sheet, :\n",
      "\"Expecting numeric in I85 / R85C9: got 'вЂ”'\"Warning message in read_fun(path = enc2native(normalizePath(path)), sheet_i = sheet, :\n",
      "\"Expecting numeric in E86 / R86C5: got 'вЂ”'\"Warning message in read_fun(path = enc2native(normalizePath(path)), sheet_i = sheet, :\n",
      "\"Expecting numeric in I86 / R86C9: got 'вЂ”'\"Warning message in read_fun(path = enc2native(normalizePath(path)), sheet_i = sheet, :\n",
      "\"Expecting numeric in E87 / R87C5: got 'вЂ”'\"Warning message in read_fun(path = enc2native(normalizePath(path)), sheet_i = sheet, :\n",
      "\"Expecting numeric in I87 / R87C9: got 'вЂ”'\"Warning message in read_fun(path = enc2native(normalizePath(path)), sheet_i = sheet, :\n",
      "\"Expecting numeric in E88 / R88C5: got 'вЂ”'\"Warning message in read_fun(path = enc2native(normalizePath(path)), sheet_i = sheet, :\n",
      "\"Expecting numeric in I88 / R88C9: got 'вЂ”'\"Warning message in read_fun(path = enc2native(normalizePath(path)), sheet_i = sheet, :\n",
      "\"Expecting numeric in E89 / R89C5: got 'вЂ”'\"Warning message in read_fun(path = enc2native(normalizePath(path)), sheet_i = sheet, :\n",
      "\"Expecting numeric in I89 / R89C9: got 'вЂ”'\"Warning message in read_fun(path = enc2native(normalizePath(path)), sheet_i = sheet, :\n",
      "\"Expecting numeric in C91 / R91C3: got 'вЂ”'\"Warning message in read_fun(path = enc2native(normalizePath(path)), sheet_i = sheet, :\n",
      "\"Expecting numeric in E91 / R91C5: got 'вЂ”'\"Warning message in read_fun(path = enc2native(normalizePath(path)), sheet_i = sheet, :\n",
      "\"Expecting numeric in G91 / R91C7: got 'вЂ”'\"Warning message in read_fun(path = enc2native(normalizePath(path)), sheet_i = sheet, :\n",
      "\"Expecting numeric in I91 / R91C9: got 'вЂ”'\"Warning message in read_fun(path = enc2native(normalizePath(path)), sheet_i = sheet, :\n",
      "\"Expecting numeric in E92 / R92C5: got 'вЂ”'\"Warning message in read_fun(path = enc2native(normalizePath(path)), sheet_i = sheet, :\n",
      "\"Expecting numeric in I92 / R92C9: got 'вЂ”'\"Warning message in read_fun(path = enc2native(normalizePath(path)), sheet_i = sheet, :\n",
      "\"Expecting numeric in E93 / R93C5: got 'вЂ”'\"Warning message in read_fun(path = enc2native(normalizePath(path)), sheet_i = sheet, :\n",
      "\"Expecting numeric in I93 / R93C9: got 'вЂ”'\"Warning message in read_fun(path = enc2native(normalizePath(path)), sheet_i = sheet, :\n",
      "\"Expecting numeric in E94 / R94C5: got 'вЂ”'\"Warning message in read_fun(path = enc2native(normalizePath(path)), sheet_i = sheet, :\n",
      "\"Expecting numeric in I94 / R94C9: got 'вЂ”'\"Warning message in read_fun(path = enc2native(normalizePath(path)), sheet_i = sheet, :\n",
      "\"Expecting numeric in E97 / R97C5: got 'вЂ”'\"Warning message in read_fun(path = enc2native(normalizePath(path)), sheet_i = sheet, :\n",
      "\"Expecting numeric in I97 / R97C9: got 'вЂ”'\"Warning message in read_fun(path = enc2native(normalizePath(path)), sheet_i = sheet, :\n",
      "\"Expecting numeric in E98 / R98C5: got 'вЂ”'\"Warning message in read_fun(path = enc2native(normalizePath(path)), sheet_i = sheet, :\n",
      "\"Expecting numeric in I98 / R98C9: got 'вЂ”'\"Warning message in read_fun(path = enc2native(normalizePath(path)), sheet_i = sheet, :\n",
      "\"Expecting numeric in E99 / R99C5: got 'вЂ”'\"Warning message in read_fun(path = enc2native(normalizePath(path)), sheet_i = sheet, :\n",
      "\"Expecting numeric in I99 / R99C9: got 'вЂ”'\"Warning message in read_fun(path = enc2native(normalizePath(path)), sheet_i = sheet, :\n",
      "\"Expecting numeric in E100 / R100C5: got 'вЂ”'\"Warning message in read_fun(path = enc2native(normalizePath(path)), sheet_i = sheet, :\n",
      "\"Expecting numeric in I100 / R100C9: got 'вЂ”'\"Warning message in read_fun(path = enc2native(normalizePath(path)), sheet_i = sheet, :\n",
      "\"Expecting numeric in E101 / R101C5: got 'вЂ”'\"Warning message in read_fun(path = enc2native(normalizePath(path)), sheet_i = sheet, :\n",
      "\"Expecting numeric in I101 / R101C9: got 'вЂ”'\"Warning message in read_fun(path = enc2native(normalizePath(path)), sheet_i = sheet, :\n",
      "\"Expecting numeric in E102 / R102C5: got 'вЂ”'\"Warning message in read_fun(path = enc2native(normalizePath(path)), sheet_i = sheet, :\n",
      "\"Expecting numeric in I102 / R102C9: got 'вЂ”'\"Warning message in read_fun(path = enc2native(normalizePath(path)), sheet_i = sheet, :\n",
      "\"Expecting numeric in E105 / R105C5: got 'вЂ”'\"Warning message in read_fun(path = enc2native(normalizePath(path)), sheet_i = sheet, :\n",
      "\"Expecting numeric in I105 / R105C9: got 'вЂ”'\"Warning message in read_fun(path = enc2native(normalizePath(path)), sheet_i = sheet, :\n"
     ]
    },
    {
     "name": "stderr",
     "output_type": "stream",
     "text": [
      "\"Expecting numeric in E108 / R108C5: got 'вЂ”'\"Warning message in read_fun(path = enc2native(normalizePath(path)), sheet_i = sheet, :\n",
      "\"Expecting numeric in I108 / R108C9: got 'вЂ”'\"Warning message in read_fun(path = enc2native(normalizePath(path)), sheet_i = sheet, :\n",
      "\"Expecting numeric in C110 / R110C3: got 'вЂ”'\"Warning message in read_fun(path = enc2native(normalizePath(path)), sheet_i = sheet, :\n",
      "\"Expecting numeric in G110 / R110C7: got 'вЂ”'\"Warning message in read_fun(path = enc2native(normalizePath(path)), sheet_i = sheet, :\n",
      "\"Expecting numeric in E111 / R111C5: got 'вЂ”'\"Warning message in read_fun(path = enc2native(normalizePath(path)), sheet_i = sheet, :\n",
      "\"Expecting numeric in I111 / R111C9: got 'вЂ”'\"Warning message in read_fun(path = enc2native(normalizePath(path)), sheet_i = sheet, :\n",
      "\"Expecting numeric in E113 / R113C5: got 'вЂ”'\"Warning message in read_fun(path = enc2native(normalizePath(path)), sheet_i = sheet, :\n",
      "\"Expecting numeric in I113 / R113C9: got 'вЂ”'\"Warning message in read_fun(path = enc2native(normalizePath(path)), sheet_i = sheet, :\n",
      "\"Expecting numeric in E114 / R114C5: got 'вЂ”'\"Warning message in read_fun(path = enc2native(normalizePath(path)), sheet_i = sheet, :\n",
      "\"Expecting numeric in I114 / R114C9: got 'вЂ”'\"Warning message in read_fun(path = enc2native(normalizePath(path)), sheet_i = sheet, :\n",
      "\"Expecting numeric in E122 / R122C5: got 'вЂ”'\"Warning message in read_fun(path = enc2native(normalizePath(path)), sheet_i = sheet, :\n",
      "\"Expecting numeric in I122 / R122C9: got 'вЂ”'\"Warning message in read_fun(path = enc2native(normalizePath(path)), sheet_i = sheet, :\n",
      "\"Expecting numeric in E124 / R124C5: got 'вЂ”'\"Warning message in read_fun(path = enc2native(normalizePath(path)), sheet_i = sheet, :\n",
      "\"Expecting numeric in I124 / R124C9: got 'вЂ”'\"Warning message in read_fun(path = enc2native(normalizePath(path)), sheet_i = sheet, :\n",
      "\"Expecting numeric in E126 / R126C5: got 'вЂ”'\"Warning message in read_fun(path = enc2native(normalizePath(path)), sheet_i = sheet, :\n",
      "\"Expecting numeric in I126 / R126C9: got 'вЂ”'\"Warning message in read_fun(path = enc2native(normalizePath(path)), sheet_i = sheet, :\n",
      "\"Expecting numeric in E127 / R127C5: got 'вЂ”'\"Warning message in read_fun(path = enc2native(normalizePath(path)), sheet_i = sheet, :\n",
      "\"Expecting numeric in I127 / R127C9: got 'вЂ”'\"Warning message in read_fun(path = enc2native(normalizePath(path)), sheet_i = sheet, :\n",
      "\"Expecting numeric in E129 / R129C5: got 'вЂ”'\"Warning message in read_fun(path = enc2native(normalizePath(path)), sheet_i = sheet, :\n",
      "\"Expecting numeric in I129 / R129C9: got 'вЂ”'\"Warning message in read_fun(path = enc2native(normalizePath(path)), sheet_i = sheet, :\n",
      "\"Expecting numeric in E130 / R130C5: got 'вЂ”'\"Warning message in read_fun(path = enc2native(normalizePath(path)), sheet_i = sheet, :\n",
      "\"Expecting numeric in I130 / R130C9: got 'вЂ”'\"Warning message in read_fun(path = enc2native(normalizePath(path)), sheet_i = sheet, :\n",
      "\"Expecting numeric in E132 / R132C5: got 'вЂ”'\"Warning message in read_fun(path = enc2native(normalizePath(path)), sheet_i = sheet, :\n",
      "\"Expecting numeric in I132 / R132C9: got 'вЂ”'\"Warning message in read_fun(path = enc2native(normalizePath(path)), sheet_i = sheet, :\n",
      "\"Expecting numeric in E133 / R133C5: got 'вЂ”'\"Warning message in read_fun(path = enc2native(normalizePath(path)), sheet_i = sheet, :\n",
      "\"Expecting numeric in I133 / R133C9: got 'вЂ”'\"Warning message in read_fun(path = enc2native(normalizePath(path)), sheet_i = sheet, :\n",
      "\"Expecting numeric in E134 / R134C5: got 'вЂ”'\"Warning message in read_fun(path = enc2native(normalizePath(path)), sheet_i = sheet, :\n",
      "\"Expecting numeric in I134 / R134C9: got 'вЂ”'\"Warning message in read_fun(path = enc2native(normalizePath(path)), sheet_i = sheet, :\n",
      "\"Expecting numeric in E135 / R135C5: got 'вЂ”'\"Warning message in read_fun(path = enc2native(normalizePath(path)), sheet_i = sheet, :\n",
      "\"Expecting numeric in I135 / R135C9: got 'вЂ”'\"Warning message in read_fun(path = enc2native(normalizePath(path)), sheet_i = sheet, :\n",
      "\"Expecting numeric in E136 / R136C5: got 'вЂ”'\"Warning message in read_fun(path = enc2native(normalizePath(path)), sheet_i = sheet, :\n",
      "\"Expecting numeric in I136 / R136C9: got 'вЂ”'\"Warning message in read_fun(path = enc2native(normalizePath(path)), sheet_i = sheet, :\n",
      "\"Expecting numeric in E137 / R137C5: got 'вЂ”'\"Warning message in read_fun(path = enc2native(normalizePath(path)), sheet_i = sheet, :\n",
      "\"Expecting numeric in I137 / R137C9: got 'вЂ”'\"Warning message in read_fun(path = enc2native(normalizePath(path)), sheet_i = sheet, :\n",
      "\"Expecting numeric in E138 / R138C5: got 'вЂ”'\"Warning message in read_fun(path = enc2native(normalizePath(path)), sheet_i = sheet, :\n",
      "\"Expecting numeric in I138 / R138C9: got 'вЂ”'\"Warning message in read_fun(path = enc2native(normalizePath(path)), sheet_i = sheet, :\n",
      "\"Expecting numeric in E139 / R139C5: got 'вЂ”'\"Warning message in read_fun(path = enc2native(normalizePath(path)), sheet_i = sheet, :\n",
      "\"Expecting numeric in I139 / R139C9: got 'вЂ”'\"Warning message in read_fun(path = enc2native(normalizePath(path)), sheet_i = sheet, :\n",
      "\"Expecting numeric in C140 / R140C3: got 'вЂ”'\"Warning message in read_fun(path = enc2native(normalizePath(path)), sheet_i = sheet, :\n",
      "\"Expecting numeric in E140 / R140C5: got 'вЂ”'\"Warning message in read_fun(path = enc2native(normalizePath(path)), sheet_i = sheet, :\n",
      "\"Expecting numeric in G140 / R140C7: got 'вЂ”'\"Warning message in read_fun(path = enc2native(normalizePath(path)), sheet_i = sheet, :\n",
      "\"Expecting numeric in I140 / R140C9: got 'вЂ”'\"Warning message in read_fun(path = enc2native(normalizePath(path)), sheet_i = sheet, :\n",
      "\"Expecting numeric in E142 / R142C5: got 'вЂ”'\"Warning message in read_fun(path = enc2native(normalizePath(path)), sheet_i = sheet, :\n",
      "\"Expecting numeric in I142 / R142C9: got 'вЂ”'\"Warning message in read_fun(path = enc2native(normalizePath(path)), sheet_i = sheet, :\n",
      "\"Expecting numeric in E157 / R157C5: got 'вЂ”'\"Warning message in read_fun(path = enc2native(normalizePath(path)), sheet_i = sheet, :\n",
      "\"Expecting numeric in I157 / R157C9: got 'вЂ”'\"Warning message in read_fun(path = enc2native(normalizePath(path)), sheet_i = sheet, :\n",
      "\"Expecting numeric in E161 / R161C5: got 'вЂ”'\"Warning message in read_fun(path = enc2native(normalizePath(path)), sheet_i = sheet, :\n",
      "\"Expecting numeric in I161 / R161C9: got 'вЂ”'\"Warning message in read_fun(path = enc2native(normalizePath(path)), sheet_i = sheet, :\n",
      "\"Expecting numeric in E172 / R172C5: got 'вЂ”'\"Warning message in read_fun(path = enc2native(normalizePath(path)), sheet_i = sheet, :\n",
      "\"Expecting numeric in I172 / R172C9: got 'вЂ”'\"Warning message in read_fun(path = enc2native(normalizePath(path)), sheet_i = sheet, :\n",
      "\"Expecting numeric in C182 / R182C3: got 'вЂ”'\"Warning message in read_fun(path = enc2native(normalizePath(path)), sheet_i = sheet, :\n",
      "\"Expecting numeric in E182 / R182C5: got 'вЂ”'\"Warning message in read_fun(path = enc2native(normalizePath(path)), sheet_i = sheet, :\n",
      "\"Expecting numeric in G182 / R182C7: got 'вЂ”'\"Warning message in read_fun(path = enc2native(normalizePath(path)), sheet_i = sheet, :\n",
      "\"Expecting numeric in I182 / R182C9: got 'вЂ”'\"Warning message in read_fun(path = enc2native(normalizePath(path)), sheet_i = sheet, :\n",
      "\"Expecting numeric in E186 / R186C5: got 'вЂ”'\"Warning message in read_fun(path = enc2native(normalizePath(path)), sheet_i = sheet, :\n",
      "\"Expecting numeric in I186 / R186C9: got 'вЂ”'\"Warning message in read_fun(path = enc2native(normalizePath(path)), sheet_i = sheet, :\n",
      "\"Expecting numeric in E189 / R189C5: got 'вЂ”'\"Warning message in read_fun(path = enc2native(normalizePath(path)), sheet_i = sheet, :\n",
      "\"Expecting numeric in I189 / R189C9: got 'вЂ”'\"Warning message in read_fun(path = enc2native(normalizePath(path)), sheet_i = sheet, :\n",
      "\"Expecting numeric in E204 / R204C5: got 'вЂ”'\"Warning message in read_fun(path = enc2native(normalizePath(path)), sheet_i = sheet, :\n",
      "\"Expecting numeric in I204 / R204C9: got 'вЂ”'\"Warning message in read_fun(path = enc2native(normalizePath(path)), sheet_i = sheet, :\n",
      "\"Expecting numeric in E205 / R205C5: got 'вЂ”'\"Warning message in read_fun(path = enc2native(normalizePath(path)), sheet_i = sheet, :\n"
     ]
    },
    {
     "name": "stderr",
     "output_type": "stream",
     "text": [
      "\"Expecting numeric in I205 / R205C9: got 'вЂ”'\"Warning message in read_fun(path = enc2native(normalizePath(path)), sheet_i = sheet, :\n",
      "\"Expecting numeric in E206 / R206C5: got 'вЂ”'\"Warning message in read_fun(path = enc2native(normalizePath(path)), sheet_i = sheet, :\n",
      "\"Expecting numeric in I206 / R206C9: got 'вЂ”'\"Warning message in read_fun(path = enc2native(normalizePath(path)), sheet_i = sheet, :\n",
      "\"Expecting numeric in C209 / R209C3: got 'вЂ”'\"Warning message in read_fun(path = enc2native(normalizePath(path)), sheet_i = sheet, :\n",
      "\"Expecting numeric in G209 / R209C7: got 'вЂ”'\"Warning message in read_fun(path = enc2native(normalizePath(path)), sheet_i = sheet, :\n",
      "\"Expecting numeric in E222 / R222C5: got 'вЂ”'\"Warning message in read_fun(path = enc2native(normalizePath(path)), sheet_i = sheet, :\n",
      "\"Expecting numeric in I222 / R222C9: got 'вЂ”'\"Warning message in read_fun(path = enc2native(normalizePath(path)), sheet_i = sheet, :\n",
      "\"Expecting numeric in E229 / R229C5: got 'вЂ”'\"Warning message in read_fun(path = enc2native(normalizePath(path)), sheet_i = sheet, :\n",
      "\"Expecting numeric in I229 / R229C9: got 'вЂ”'\"Warning message in read_fun(path = enc2native(normalizePath(path)), sheet_i = sheet, :\n",
      "\"Expecting numeric in E230 / R230C5: got 'вЂ”'\"Warning message in read_fun(path = enc2native(normalizePath(path)), sheet_i = sheet, :\n",
      "\"Expecting numeric in I230 / R230C9: got 'вЂ”'\"Warning message in read_fun(path = enc2native(normalizePath(path)), sheet_i = sheet, :\n",
      "\"Expecting numeric in E231 / R231C5: got 'вЂ”'\"Warning message in read_fun(path = enc2native(normalizePath(path)), sheet_i = sheet, :\n",
      "\"Expecting numeric in I231 / R231C9: got 'вЂ”'\"Warning message in read_fun(path = enc2native(normalizePath(path)), sheet_i = sheet, :\n",
      "\"Expecting numeric in E234 / R234C5: got 'вЂ”'\"Warning message in read_fun(path = enc2native(normalizePath(path)), sheet_i = sheet, :\n",
      "\"Expecting numeric in I234 / R234C9: got 'вЂ”'\"Warning message in read_fun(path = enc2native(normalizePath(path)), sheet_i = sheet, :\n",
      "\"Expecting numeric in E235 / R235C5: got 'вЂ”'\"Warning message in read_fun(path = enc2native(normalizePath(path)), sheet_i = sheet, :\n",
      "\"Expecting numeric in I235 / R235C9: got 'вЂ”'\"Warning message in read_fun(path = enc2native(normalizePath(path)), sheet_i = sheet, :\n",
      "\"Expecting numeric in E236 / R236C5: got 'вЂ”'\"Warning message in read_fun(path = enc2native(normalizePath(path)), sheet_i = sheet, :\n",
      "\"Expecting numeric in I236 / R236C9: got 'вЂ”'\"Warning message in read_fun(path = enc2native(normalizePath(path)), sheet_i = sheet, :\n",
      "\"Expecting numeric in E239 / R239C5: got 'вЂ”'\"Warning message in read_fun(path = enc2native(normalizePath(path)), sheet_i = sheet, :\n",
      "\"Expecting numeric in I239 / R239C9: got 'вЂ”'\"Warning message in read_fun(path = enc2native(normalizePath(path)), sheet_i = sheet, :\n",
      "\"Expecting numeric in E240 / R240C5: got 'вЂ”'\"Warning message in read_fun(path = enc2native(normalizePath(path)), sheet_i = sheet, :\n",
      "\"Expecting numeric in I240 / R240C9: got 'вЂ”'\"Warning message in read_fun(path = enc2native(normalizePath(path)), sheet_i = sheet, :\n",
      "\"Expecting numeric in E241 / R241C5: got 'вЂ”'\"Warning message in read_fun(path = enc2native(normalizePath(path)), sheet_i = sheet, :\n",
      "\"Expecting numeric in I241 / R241C9: got 'вЂ”'\"Warning message in read_fun(path = enc2native(normalizePath(path)), sheet_i = sheet, :\n",
      "\"Expecting numeric in E242 / R242C5: got 'вЂ”'\"Warning message in read_fun(path = enc2native(normalizePath(path)), sheet_i = sheet, :\n",
      "\"Expecting numeric in I242 / R242C9: got 'вЂ”'\"Warning message in read_fun(path = enc2native(normalizePath(path)), sheet_i = sheet, :\n",
      "\"Expecting numeric in E246 / R246C5: got 'вЂ”'\"Warning message in read_fun(path = enc2native(normalizePath(path)), sheet_i = sheet, :\n",
      "\"Expecting numeric in I246 / R246C9: got 'вЂ”'\"Warning message in read_fun(path = enc2native(normalizePath(path)), sheet_i = sheet, :\n",
      "\"Expecting numeric in C260 / R260C3: got 'вЂ”'\"Warning message in read_fun(path = enc2native(normalizePath(path)), sheet_i = sheet, :\n",
      "\"Expecting numeric in G260 / R260C7: got 'вЂ”'\"Warning message in read_fun(path = enc2native(normalizePath(path)), sheet_i = sheet, :\n",
      "\"Expecting numeric in C273 / R273C3: got 'вЂ”'\"Warning message in read_fun(path = enc2native(normalizePath(path)), sheet_i = sheet, :\n",
      "\"Expecting numeric in G273 / R273C7: got 'вЂ”'\"Warning message in read_fun(path = enc2native(normalizePath(path)), sheet_i = sheet, :\n",
      "\"Expecting numeric in E290 / R290C5: got 'вЂ”'\"Warning message in read_fun(path = enc2native(normalizePath(path)), sheet_i = sheet, :\n",
      "\"Expecting numeric in I290 / R290C9: got 'вЂ”'\"Warning message in read_fun(path = enc2native(normalizePath(path)), sheet_i = sheet, :\n",
      "\"Expecting numeric in C293 / R293C3: got 'вЂ”'\"Warning message in read_fun(path = enc2native(normalizePath(path)), sheet_i = sheet, :\n",
      "\"Expecting numeric in G293 / R293C7: got 'вЂ”'\"Warning message in read_fun(path = enc2native(normalizePath(path)), sheet_i = sheet, :\n",
      "\"Expecting numeric in C302 / R302C3: got 'вЂ”'\"Warning message in read_fun(path = enc2native(normalizePath(path)), sheet_i = sheet, :\n",
      "\"Expecting numeric in E302 / R302C5: got 'вЂ”'\"Warning message in read_fun(path = enc2native(normalizePath(path)), sheet_i = sheet, :\n",
      "\"Expecting numeric in G302 / R302C7: got 'вЂ”'\"Warning message in read_fun(path = enc2native(normalizePath(path)), sheet_i = sheet, :\n",
      "\"Expecting numeric in I302 / R302C9: got 'вЂ”'\"Warning message in read_fun(path = enc2native(normalizePath(path)), sheet_i = sheet, :\n",
      "\"Expecting numeric in E303 / R303C5: got 'вЂ”'\"Warning message in read_fun(path = enc2native(normalizePath(path)), sheet_i = sheet, :\n",
      "\"Expecting numeric in I303 / R303C9: got 'вЂ”'\"Warning message in read_fun(path = enc2native(normalizePath(path)), sheet_i = sheet, :\n",
      "\"Expecting numeric in C306 / R306C3: got 'вЂ”'\"Warning message in read_fun(path = enc2native(normalizePath(path)), sheet_i = sheet, :\n",
      "\"Expecting numeric in G306 / R306C7: got 'вЂ”'\"Warning message in read_fun(path = enc2native(normalizePath(path)), sheet_i = sheet, :\n",
      "\"Expecting numeric in C329 / R329C3: got 'вЂ”'\"Warning message in read_fun(path = enc2native(normalizePath(path)), sheet_i = sheet, :\n",
      "\"Expecting numeric in G329 / R329C7: got 'вЂ”'\"Warning message in read_fun(path = enc2native(normalizePath(path)), sheet_i = sheet, :\n",
      "\"Expecting numeric in E335 / R335C5: got 'вЂ”'\"Warning message in read_fun(path = enc2native(normalizePath(path)), sheet_i = sheet, :\n",
      "\"Expecting numeric in I335 / R335C9: got 'вЂ”'\"Warning message in read_fun(path = enc2native(normalizePath(path)), sheet_i = sheet, :\n",
      "\"Expecting numeric in C337 / R337C3: got 'вЂ”'\"Warning message in read_fun(path = enc2native(normalizePath(path)), sheet_i = sheet, :\n",
      "\"Expecting numeric in G337 / R337C7: got 'вЂ”'\"Warning message in read_fun(path = enc2native(normalizePath(path)), sheet_i = sheet, :\n",
      "\"Expecting numeric in E339 / R339C5: got 'вЂ”'\"Warning message in read_fun(path = enc2native(normalizePath(path)), sheet_i = sheet, :\n",
      "\"Expecting numeric in I339 / R339C9: got 'вЂ”'\"Warning message in read_fun(path = enc2native(normalizePath(path)), sheet_i = sheet, :\n",
      "\"Expecting numeric in E340 / R340C5: got 'вЂ”'\"Warning message in read_fun(path = enc2native(normalizePath(path)), sheet_i = sheet, :\n",
      "\"Expecting numeric in I340 / R340C9: got 'вЂ”'\"Warning message in read_fun(path = enc2native(normalizePath(path)), sheet_i = sheet, :\n",
      "\"Expecting numeric in C361 / R361C3: got 'вЂ”'\"Warning message in read_fun(path = enc2native(normalizePath(path)), sheet_i = sheet, :\n",
      "\"Expecting numeric in G361 / R361C7: got 'вЂ”'\"Warning message in read_fun(path = enc2native(normalizePath(path)), sheet_i = sheet, :\n",
      "\"Expecting numeric in C386 / R386C3: got 'вЂ”'\"Warning message in read_fun(path = enc2native(normalizePath(path)), sheet_i = sheet, :\n",
      "\"Expecting numeric in G386 / R386C7: got 'вЂ”'\"Warning message in read_fun(path = enc2native(normalizePath(path)), sheet_i = sheet, :\n",
      "\"Expecting numeric in C429 / R429C3: got 'вЂ”'\"Warning message in read_fun(path = enc2native(normalizePath(path)), sheet_i = sheet, :\n",
      "\"Expecting numeric in G429 / R429C7: got 'вЂ”'\"Warning message in read_fun(path = enc2native(normalizePath(path)), sheet_i = sheet, :\n"
     ]
    },
    {
     "name": "stderr",
     "output_type": "stream",
     "text": [
      "\"Expecting numeric in C445 / R445C3: got 'вЂ”'\"Warning message in read_fun(path = enc2native(normalizePath(path)), sheet_i = sheet, :\n",
      "\"Expecting numeric in G445 / R445C7: got 'вЂ”'\"Warning message in read_fun(path = enc2native(normalizePath(path)), sheet_i = sheet, :\n",
      "\"Expecting numeric in C455 / R455C3: got 'вЂ”'\"Warning message in read_fun(path = enc2native(normalizePath(path)), sheet_i = sheet, :\n",
      "\"Expecting numeric in G455 / R455C7: got 'вЂ”'\"Warning message in read_fun(path = enc2native(normalizePath(path)), sheet_i = sheet, :\n",
      "\"Expecting numeric in C468 / R468C3: got 'вЂ”'\"Warning message in read_fun(path = enc2native(normalizePath(path)), sheet_i = sheet, :\n",
      "\"Expecting numeric in G468 / R468C7: got 'вЂ”'\"Warning message in read_fun(path = enc2native(normalizePath(path)), sheet_i = sheet, :\n",
      "\"Expecting numeric in C472 / R472C3: got 'вЂ”'\"Warning message in read_fun(path = enc2native(normalizePath(path)), sheet_i = sheet, :\n",
      "\"Expecting numeric in G472 / R472C7: got 'вЂ”'\"Warning message in read_fun(path = enc2native(normalizePath(path)), sheet_i = sheet, :\n",
      "\"Expecting numeric in C473 / R473C3: got 'вЂ”'\"Warning message in read_fun(path = enc2native(normalizePath(path)), sheet_i = sheet, :\n",
      "\"Expecting numeric in G473 / R473C7: got 'вЂ”'\"Warning message in read_fun(path = enc2native(normalizePath(path)), sheet_i = sheet, :\n",
      "\"Expecting numeric in C508 / R508C3: got 'вЂ”'\"Warning message in read_fun(path = enc2native(normalizePath(path)), sheet_i = sheet, :\n",
      "\"Expecting numeric in G508 / R508C7: got 'вЂ”'\"Warning message in read_fun(path = enc2native(normalizePath(path)), sheet_i = sheet, :\n",
      "\"Expecting numeric in C516 / R516C3: got 'вЂ”'\"Warning message in read_fun(path = enc2native(normalizePath(path)), sheet_i = sheet, :\n",
      "\"Expecting numeric in G516 / R516C7: got 'вЂ”'\"Warning message in read_fun(path = enc2native(normalizePath(path)), sheet_i = sheet, :\n",
      "\"Expecting numeric in C519 / R519C3: got 'вЂ”'\"Warning message in read_fun(path = enc2native(normalizePath(path)), sheet_i = sheet, :\n",
      "\"Expecting numeric in G519 / R519C7: got 'вЂ”'\"Warning message in read_fun(path = enc2native(normalizePath(path)), sheet_i = sheet, :\n",
      "\"Expecting numeric in C544 / R544C3: got 'вЂ”'\"Warning message in read_fun(path = enc2native(normalizePath(path)), sheet_i = sheet, :\n",
      "\"Expecting numeric in G544 / R544C7: got 'вЂ”'\"Warning message in read_fun(path = enc2native(normalizePath(path)), sheet_i = sheet, :\n",
      "\"Expecting numeric in C549 / R549C3: got 'вЂ”'\"Warning message in read_fun(path = enc2native(normalizePath(path)), sheet_i = sheet, :\n",
      "\"Expecting numeric in G549 / R549C7: got 'вЂ”'\"Warning message in read_fun(path = enc2native(normalizePath(path)), sheet_i = sheet, :\n",
      "\"Expecting numeric in C553 / R553C3: got 'вЂ”'\"Warning message in read_fun(path = enc2native(normalizePath(path)), sheet_i = sheet, :\n",
      "\"Expecting numeric in G553 / R553C7: got 'вЂ”'\"Warning message in read_fun(path = enc2native(normalizePath(path)), sheet_i = sheet, :\n",
      "\"Expecting numeric in C575 / R575C3: got 'вЂ”'\"Warning message in read_fun(path = enc2native(normalizePath(path)), sheet_i = sheet, :\n",
      "\"Expecting numeric in G575 / R575C7: got 'вЂ”'\"Warning message in read_fun(path = enc2native(normalizePath(path)), sheet_i = sheet, :\n",
      "\"Expecting numeric in C588 / R588C3: got 'вЂ”'\"Warning message in read_fun(path = enc2native(normalizePath(path)), sheet_i = sheet, :\n",
      "\"Expecting numeric in G588 / R588C7: got 'вЂ”'\"Warning message in read_fun(path = enc2native(normalizePath(path)), sheet_i = sheet, :\n",
      "\"Expecting numeric in C607 / R607C3: got 'вЂ”'\"Warning message in read_fun(path = enc2native(normalizePath(path)), sheet_i = sheet, :\n",
      "\"Expecting numeric in G607 / R607C7: got 'вЂ”'\"Warning message in read_fun(path = enc2native(normalizePath(path)), sheet_i = sheet, :\n",
      "\"Expecting numeric in C632 / R632C3: got 'вЂ”'\"Warning message in read_fun(path = enc2native(normalizePath(path)), sheet_i = sheet, :\n",
      "\"Expecting numeric in G632 / R632C7: got 'вЂ”'\"Warning message in read_fun(path = enc2native(normalizePath(path)), sheet_i = sheet, :\n",
      "\"Expecting numeric in C676 / R676C3: got 'вЂ”'\"Warning message in read_fun(path = enc2native(normalizePath(path)), sheet_i = sheet, :\n",
      "\"Expecting numeric in G676 / R676C7: got 'вЂ”'\"Warning message in read_fun(path = enc2native(normalizePath(path)), sheet_i = sheet, :\n",
      "\"Expecting numeric in C692 / R692C3: got 'вЂ”'\"Warning message in read_fun(path = enc2native(normalizePath(path)), sheet_i = sheet, :\n",
      "\"Expecting numeric in G692 / R692C7: got 'вЂ”'\"Warning message in read_fun(path = enc2native(normalizePath(path)), sheet_i = sheet, :\n",
      "\"Expecting numeric in C701 / R701C3: got 'вЂ”'\"Warning message in read_fun(path = enc2native(normalizePath(path)), sheet_i = sheet, :\n",
      "\"Expecting numeric in G701 / R701C7: got 'вЂ”'\"Warning message in read_fun(path = enc2native(normalizePath(path)), sheet_i = sheet, :\n",
      "\"Expecting numeric in C715 / R715C3: got 'вЂ”'\"Warning message in read_fun(path = enc2native(normalizePath(path)), sheet_i = sheet, :\n",
      "\"Expecting numeric in G715 / R715C7: got 'вЂ”'\"Warning message in read_fun(path = enc2native(normalizePath(path)), sheet_i = sheet, :\n",
      "\"Expecting numeric in C719 / R719C3: got 'вЂ”'\"Warning message in read_fun(path = enc2native(normalizePath(path)), sheet_i = sheet, :\n",
      "\"Expecting numeric in G719 / R719C7: got 'вЂ”'\"Warning message in read_fun(path = enc2native(normalizePath(path)), sheet_i = sheet, :\n",
      "\"Expecting numeric in C756 / R756C3: got 'вЂ”'\"Warning message in read_fun(path = enc2native(normalizePath(path)), sheet_i = sheet, :\n",
      "\"Expecting numeric in G756 / R756C7: got 'вЂ”'\"Warning message in read_fun(path = enc2native(normalizePath(path)), sheet_i = sheet, :\n",
      "\"Expecting numeric in C763 / R763C3: got 'вЂ”'\"Warning message in read_fun(path = enc2native(normalizePath(path)), sheet_i = sheet, :\n",
      "\"Expecting numeric in G763 / R763C7: got 'вЂ”'\"Warning message in read_fun(path = enc2native(normalizePath(path)), sheet_i = sheet, :\n",
      "\"Expecting numeric in C765 / R765C3: got 'вЂ”'\"Warning message in read_fun(path = enc2native(normalizePath(path)), sheet_i = sheet, :\n",
      "\"Expecting numeric in G765 / R765C7: got 'вЂ”'\"Warning message in read_fun(path = enc2native(normalizePath(path)), sheet_i = sheet, :\n",
      "\"Expecting numeric in C790 / R790C3: got 'вЂ”'\"Warning message in read_fun(path = enc2native(normalizePath(path)), sheet_i = sheet, :\n",
      "\"Expecting numeric in G790 / R790C7: got 'вЂ”'\"Warning message in read_fun(path = enc2native(normalizePath(path)), sheet_i = sheet, :\n",
      "\"Expecting numeric in C796 / R796C3: got 'вЂ”'\"Warning message in read_fun(path = enc2native(normalizePath(path)), sheet_i = sheet, :\n",
      "\"Expecting numeric in G796 / R796C7: got 'вЂ”'\"Warning message in read_fun(path = enc2native(normalizePath(path)), sheet_i = sheet, :\n",
      "\"Expecting numeric in C800 / R800C3: got 'вЂ”'\"Warning message in read_fun(path = enc2native(normalizePath(path)), sheet_i = sheet, :\n",
      "\"Expecting numeric in G800 / R800C7: got 'вЂ”'\"Warning message in read_fun(path = enc2native(normalizePath(path)), sheet_i = sheet, :\n",
      "\"Expecting numeric in C822 / R822C3: got 'вЂ”'\"Warning message in read_fun(path = enc2native(normalizePath(path)), sheet_i = sheet, :\n",
      "\"Expecting numeric in G822 / R822C7: got 'вЂ”'\"Warning message in read_fun(path = enc2native(normalizePath(path)), sheet_i = sheet, :\n",
      "\"Expecting numeric in C831 / R831C3: got 'вЂ”'\"Warning message in read_fun(path = enc2native(normalizePath(path)), sheet_i = sheet, :\n",
      "\"Expecting numeric in G831 / R831C7: got 'вЂ”'\"Warning message in read_fun(path = enc2native(normalizePath(path)), sheet_i = sheet, :\n",
      "\"Expecting numeric in C836 / R836C3: got 'вЂ”'\"Warning message in read_fun(path = enc2native(normalizePath(path)), sheet_i = sheet, :\n",
      "\"Expecting numeric in G836 / R836C7: got 'вЂ”'\"Warning message in read_fun(path = enc2native(normalizePath(path)), sheet_i = sheet, :\n",
      "\"Expecting numeric in C854 / R854C3: got 'вЂ”'\"Warning message in read_fun(path = enc2native(normalizePath(path)), sheet_i = sheet, :\n",
      "\"Expecting numeric in G854 / R854C7: got 'вЂ”'\"Warning message in read_fun(path = enc2native(normalizePath(path)), sheet_i = sheet, :\n",
      "\"Expecting numeric in C879 / R879C3: got 'вЂ”'\"Warning message in read_fun(path = enc2native(normalizePath(path)), sheet_i = sheet, :\n"
     ]
    },
    {
     "name": "stderr",
     "output_type": "stream",
     "text": [
      "\"Expecting numeric in G879 / R879C7: got 'вЂ”'\"Warning message in read_fun(path = enc2native(normalizePath(path)), sheet_i = sheet, :\n",
      "\"Expecting numeric in C939 / R939C3: got 'вЂ”'\"Warning message in read_fun(path = enc2native(normalizePath(path)), sheet_i = sheet, :\n",
      "\"Expecting numeric in G939 / R939C7: got 'вЂ”'\"Warning message in read_fun(path = enc2native(normalizePath(path)), sheet_i = sheet, :\n",
      "\"Expecting numeric in C963 / R963C3: got 'вЂ”'\"Warning message in read_fun(path = enc2native(normalizePath(path)), sheet_i = sheet, :\n",
      "\"Expecting numeric in G963 / R963C7: got 'вЂ”'\"Warning message in read_fun(path = enc2native(normalizePath(path)), sheet_i = sheet, :\n",
      "\"Expecting numeric in C1012 / R1012C3: got 'вЂ”'\"Warning message in read_fun(path = enc2native(normalizePath(path)), sheet_i = sheet, :\n",
      "\"Expecting numeric in G1012 / R1012C7: got 'вЂ”'\"Warning message in read_fun(path = enc2native(normalizePath(path)), sheet_i = sheet, :\n",
      "\"Expecting numeric in C1043 / R1043C3: got 'вЂ”'\"Warning message in read_fun(path = enc2native(normalizePath(path)), sheet_i = sheet, :\n",
      "\"Expecting numeric in G1043 / R1043C7: got 'вЂ”'\"Warning message in read_fun(path = enc2native(normalizePath(path)), sheet_i = sheet, :\n",
      "\"Expecting numeric in E1044 / R1044C5: got 'вЂ”'\"Warning message in read_fun(path = enc2native(normalizePath(path)), sheet_i = sheet, :\n",
      "\"Expecting numeric in I1044 / R1044C9: got 'вЂ”'\"Warning message in read_fun(path = enc2native(normalizePath(path)), sheet_i = sheet, :\n",
      "\"Expecting numeric in C1100 / R1100C3: got 'вЂ”'\"Warning message in read_fun(path = enc2native(normalizePath(path)), sheet_i = sheet, :\n",
      "\"Expecting numeric in G1100 / R1100C7: got 'вЂ”'\"Warning message in read_fun(path = enc2native(normalizePath(path)), sheet_i = sheet, :\n",
      "\"Expecting numeric in C1200 / R1200C3: got 'вЂ”'\"Warning message in read_fun(path = enc2native(normalizePath(path)), sheet_i = sheet, :\n",
      "\"Expecting numeric in G1200 / R1200C7: got 'вЂ”'\"Warning message in read_fun(path = enc2native(normalizePath(path)), sheet_i = sheet, :\n",
      "\"Expecting numeric in C1284 / R1284C3: got 'вЂ”'\"Warning message in read_fun(path = enc2native(normalizePath(path)), sheet_i = sheet, :\n",
      "\"Expecting numeric in G1284 / R1284C7: got 'вЂ”'\""
     ]
    }
   ],
   "source": [
    "cbr <- read_xlsx('cbr.xlsx', col_types = c('text', 'numeric', 'numeric', 'numeric', 'numeric',\n",
    "                                          'numeric', 'numeric', 'numeric', 'numeric'))"
   ]
  },
  {
   "cell_type": "code",
   "execution_count": 429,
   "metadata": {},
   "outputs": [],
   "source": [
    "cbr$Date <- as.Date(cbr$Date, format = \"%d.%m.%Y\")"
   ]
  },
  {
   "cell_type": "markdown",
   "metadata": {},
   "source": [
    "#### В таблице есть пропуски, заменю их предыдущими значениями "
   ]
  },
  {
   "cell_type": "code",
   "execution_count": 430,
   "metadata": {},
   "outputs": [],
   "source": [
    "n3 <- nrow(cbr)\n",
    "n4 <- ncol(cbr)\n",
    "for (i in 1:n3) {\n",
    "    for (j in 2:n4) {\n",
    "        if (is.na(cbr[i,j]) == TRUE) {\n",
    "            cbr[i,j] <- as.numeric(cbr[(i-1),j]) #так как в фрейме от новых к старым данные\n",
    "        }\n",
    "    }\n",
    "}"
   ]
  },
  {
   "cell_type": "code",
   "execution_count": 431,
   "metadata": {
    "scrolled": true
   },
   "outputs": [
    {
     "data": {
      "text/html": [
       "<table>\n",
       "<thead><tr><th scope=col>Date</th><th scope=col>MIACR</th><th scope=col>MIACR_USD</th><th scope=col>MIACR_IG</th><th scope=col>MIACR_B</th><th scope=col>MIACR_vol</th><th scope=col>MIACR_USD_vol</th><th scope=col>MIACR_IG_vol</th><th scope=col>MIACR_B_vol</th></tr></thead>\n",
       "<tbody>\n",
       "\t<tr><td>2020-03-25</td><td>5.90      </td><td>0.16      </td><td>5.82      </td><td>6.00      </td><td>253425.3  </td><td>2456.16   </td><td>153696    </td><td> 6520     </td></tr>\n",
       "\t<tr><td>2020-03-24</td><td>5.95      </td><td>0.21      </td><td>5.93      </td><td>5.93      </td><td>247669.0  </td><td>2911.12   </td><td>148112    </td><td> 6400     </td></tr>\n",
       "\t<tr><td>2020-03-23</td><td>5.90      </td><td>0.16      </td><td>5.82      </td><td>5.86      </td><td>240310.7  </td><td>3827.17   </td><td>131728    </td><td> 7960     </td></tr>\n",
       "\t<tr><td>2020-03-20</td><td>5.85      </td><td>0.10      </td><td>5.84      </td><td>6.08      </td><td>254468.8  </td><td>5247.85   </td><td>167000    </td><td> 9520     </td></tr>\n",
       "\t<tr><td>2020-03-19</td><td>5.68      </td><td>0.23      </td><td>5.65      </td><td>5.93      </td><td>188198.2  </td><td>4289.71   </td><td>115040    </td><td>14436     </td></tr>\n",
       "\t<tr><td>2020-03-18</td><td>5.47      </td><td>0.53      </td><td>5.45      </td><td>5.60      </td><td>208847.0  </td><td>6597.15   </td><td>150188    </td><td> 4360     </td></tr>\n",
       "\t<tr><td>2020-03-17</td><td>5.35      </td><td>0.80      </td><td>5.29      </td><td>5.50      </td><td>213950.4  </td><td>5319.73   </td><td>136748    </td><td>13760     </td></tr>\n",
       "\t<tr><td>2020-03-16</td><td>5.37      </td><td>0.92      </td><td>5.25      </td><td>5.50      </td><td>285353.8  </td><td>5213.93   </td><td>141400    </td><td>15412     </td></tr>\n",
       "\t<tr><td>2020-03-13</td><td>5.35      </td><td>1.09      </td><td>5.26      </td><td>5.53      </td><td>236000.0  </td><td>6754.82   </td><td>108640    </td><td>11300     </td></tr>\n",
       "\t<tr><td>2020-03-12</td><td>5.65      </td><td>1.09      </td><td>5.64      </td><td>5.68      </td><td>265701.2  </td><td>6785.80   </td><td>180792    </td><td> 9120     </td></tr>\n",
       "\t<tr><td>2020-03-11</td><td>5.68      </td><td>1.09      </td><td>5.56      </td><td>5.80      </td><td>217923.6  </td><td>7074.71   </td><td>140692    </td><td> 8316     </td></tr>\n",
       "\t<tr><td>2020-03-10</td><td>5.95      </td><td>1.11      </td><td>5.76      </td><td>5.86      </td><td>215667.2  </td><td>5650.63   </td><td>115212    </td><td> 3276     </td></tr>\n",
       "\t<tr><td>2020-03-06</td><td>6.00      </td><td>1.12      </td><td>5.96      </td><td>5.93      </td><td>225687.7  </td><td>6135.14   </td><td>109496    </td><td> 3676     </td></tr>\n",
       "\t<tr><td>2020-03-05</td><td>5.91      </td><td>1.10      </td><td>5.87      </td><td>5.88      </td><td>217245.2  </td><td>6232.61   </td><td>101400    </td><td> 5116     </td></tr>\n",
       "\t<tr><td>2020-03-04</td><td>5.94      </td><td>1.10      </td><td>5.86      </td><td>5.94      </td><td>208851.9  </td><td>6426.07   </td><td> 92472    </td><td> 6716     </td></tr>\n",
       "\t<tr><td>2020-03-03</td><td>5.98      </td><td>1.57      </td><td>5.89      </td><td>5.91      </td><td>253778.7  </td><td>6107.33   </td><td> 98224    </td><td> 8316     </td></tr>\n",
       "\t<tr><td>2020-03-02</td><td>5.99      </td><td>1.60      </td><td>5.82      </td><td>5.92      </td><td>195264.5  </td><td>6959.41   </td><td> 44248    </td><td> 4076     </td></tr>\n",
       "\t<tr><td>2020-02-28</td><td>6.24      </td><td>1.57      </td><td>6.21      </td><td>5.92      </td><td>284419.0  </td><td>7423.42   </td><td>140200    </td><td> 4076     </td></tr>\n",
       "\t<tr><td>2020-02-27</td><td>5.99      </td><td>1.58      </td><td>5.88      </td><td>5.90      </td><td>182358.8  </td><td>7205.74   </td><td> 59348    </td><td> 2636     </td></tr>\n",
       "\t<tr><td>2020-02-26</td><td>6.03      </td><td>1.58      </td><td>6.02      </td><td>5.94      </td><td>229361.5  </td><td>8053.31   </td><td> 94024    </td><td> 1868     </td></tr>\n",
       "\t<tr><td>2020-02-25</td><td>5.97      </td><td>1.57      </td><td>5.98      </td><td>6.04      </td><td>204698.2  </td><td>8185.46   </td><td> 56540    </td><td> 5308     </td></tr>\n",
       "\t<tr><td>2020-02-21</td><td>5.83      </td><td>1.59      </td><td>5.75      </td><td>5.83      </td><td>203257.4  </td><td>6573.07   </td><td> 77820    </td><td> 3148     </td></tr>\n",
       "\t<tr><td>2020-02-20</td><td>5.83      </td><td>1.59      </td><td>5.76      </td><td>5.83      </td><td>206451.2  </td><td>5542.74   </td><td> 86236    </td><td> 3148     </td></tr>\n",
       "\t<tr><td>2020-02-19</td><td>5.84      </td><td>1.58      </td><td>5.77      </td><td>5.79      </td><td>190665.9  </td><td>4966.73   </td><td> 78348    </td><td> 2268     </td></tr>\n",
       "\t<tr><td>2020-02-18</td><td>5.82      </td><td>1.58      </td><td>5.77      </td><td>5.83      </td><td>148890.1  </td><td>5157.66   </td><td> 64120    </td><td> 2260     </td></tr>\n",
       "\t<tr><td>2020-02-17</td><td>5.81      </td><td>1.58      </td><td>5.81      </td><td>5.83      </td><td>114412.4  </td><td>5157.66   </td><td> 76536    </td><td> 1540     </td></tr>\n",
       "\t<tr><td>2020-02-14</td><td>5.81      </td><td>1.58      </td><td>5.81      </td><td>5.83      </td><td>117557.2  </td><td>5725.05   </td><td> 83088    </td><td> 1932     </td></tr>\n",
       "\t<tr><td>2020-02-13</td><td>5.84      </td><td>1.58      </td><td>5.77      </td><td>5.82      </td><td>173851.9  </td><td>5562.39   </td><td> 58564    </td><td> 1132     </td></tr>\n",
       "\t<tr><td>2020-02-12</td><td>5.81      </td><td>1.59      </td><td>5.71      </td><td>5.82      </td><td>145739.1  </td><td>4969.70   </td><td> 63992    </td><td> 1132     </td></tr>\n",
       "\t<tr><td>2020-02-11</td><td>5.89      </td><td>1.59      </td><td>5.70      </td><td>5.82      </td><td>146240.5  </td><td>4485.89   </td><td> 53672    </td><td> 1132     </td></tr>\n",
       "\t<tr><td>...</td><td>...</td><td>...</td><td>...</td><td>...</td><td>...</td><td>...</td><td>...</td><td>...</td></tr>\n",
       "\t<tr><td>2015-02-20</td><td>15.03     </td><td>0.13      </td><td>15.00     </td><td>15.45     </td><td>228653.1  </td><td> 5849.66  </td><td>117320.0  </td><td>3050.40   </td></tr>\n",
       "\t<tr><td>2015-02-19</td><td>15.07     </td><td>0.13      </td><td>14.98     </td><td>15.40     </td><td>226393.9  </td><td> 6341.56  </td><td>125272.0  </td><td>3958.40   </td></tr>\n",
       "\t<tr><td>2015-02-18</td><td>15.06     </td><td>0.13      </td><td>14.91     </td><td>15.23     </td><td>258156.6  </td><td> 6203.56  </td><td>142856.0  </td><td>5924.00   </td></tr>\n",
       "\t<tr><td>2015-02-17</td><td>15.30     </td><td>0.13      </td><td>15.32     </td><td>15.53     </td><td>275685.6  </td><td> 4886.95  </td><td>170040.0  </td><td>7672.00   </td></tr>\n",
       "\t<tr><td>2015-02-16</td><td>15.10     </td><td>2.68      </td><td>15.01     </td><td>15.26     </td><td>235297.9  </td><td>    3.29  </td><td>146864.0  </td><td>6372.80   </td></tr>\n",
       "\t<tr><td>2015-02-13</td><td>15.22     </td><td>0.13      </td><td>15.17     </td><td>15.35     </td><td>337326.9  </td><td> 4763.52  </td><td>238608.0  </td><td>5365.60   </td></tr>\n",
       "\t<tr><td>2015-02-12</td><td>15.19     </td><td>0.13      </td><td>15.17     </td><td>15.35     </td><td>368267.9  </td><td> 4355.12  </td><td>291111.2  </td><td>5889.60   </td></tr>\n",
       "\t<tr><td>2015-02-11</td><td>15.34     </td><td>0.14      </td><td>15.32     </td><td>15.60     </td><td>309107.0  </td><td> 4662.59  </td><td>265736.0  </td><td>4154.40   </td></tr>\n",
       "\t<tr><td>2015-02-10</td><td>15.38     </td><td>0.13      </td><td>15.36     </td><td>15.40     </td><td>220045.2  </td><td> 5950.40  </td><td>158784.0  </td><td>2177.60   </td></tr>\n",
       "\t<tr><td>2015-02-09</td><td>14.90     </td><td>0.18      </td><td>14.87     </td><td>15.37     </td><td>262420.1  </td><td> 4772.44  </td><td>205240.0  </td><td>3038.40   </td></tr>\n",
       "\t<tr><td>2015-02-06</td><td>14.75     </td><td>0.15      </td><td>14.70     </td><td>14.46     </td><td>285983.7  </td><td> 4442.84  </td><td>200848.0  </td><td>3056.89   </td></tr>\n",
       "\t<tr><td>2015-02-05</td><td>14.63     </td><td>0.14      </td><td>14.61     </td><td>14.66     </td><td>289855.0  </td><td> 4833.76  </td><td>219272.0  </td><td>5422.40   </td></tr>\n",
       "\t<tr><td>2015-02-04</td><td>14.81     </td><td>0.14      </td><td>14.82     </td><td>14.82     </td><td>395597.4  </td><td> 4941.25  </td><td>302368.0  </td><td>6260.00   </td></tr>\n",
       "\t<tr><td>2015-02-03</td><td>14.87     </td><td>0.13      </td><td>14.84     </td><td>14.90     </td><td>325935.6  </td><td> 4309.20  </td><td>241640.0  </td><td>3952.00   </td></tr>\n",
       "\t<tr><td>2015-02-02</td><td>14.95     </td><td>0.12      </td><td>14.92     </td><td>15.35     </td><td>235871.0  </td><td> 4624.32  </td><td>165180.8  </td><td>3392.00   </td></tr>\n",
       "\t<tr><td>2015-01-30</td><td>16.64     </td><td>0.33      </td><td>16.66     </td><td>16.54     </td><td>248783.1  </td><td> 4678.84  </td><td>167032.8  </td><td>2740.00   </td></tr>\n",
       "\t<tr><td>2015-01-29</td><td>16.73     </td><td>0.12      </td><td>16.70     </td><td>17.16     </td><td>296584.5  </td><td> 5503.41  </td><td>188096.0  </td><td>8128.00   </td></tr>\n",
       "\t<tr><td>2015-01-28</td><td>16.96     </td><td>0.12      </td><td>16.77     </td><td>17.24     </td><td>243645.8  </td><td> 6490.80  </td><td>162816.0  </td><td>7358.40   </td></tr>\n",
       "\t<tr><td>2015-01-27</td><td>17.23     </td><td>0.13      </td><td>16.88     </td><td>17.19     </td><td>317751.0  </td><td> 6464.64  </td><td>183188.0  </td><td>9214.40   </td></tr>\n",
       "\t<tr><td>2015-01-26</td><td>16.81     </td><td>0.12      </td><td>16.82     </td><td>17.21     </td><td>297183.8  </td><td> 8635.00  </td><td>176344.0  </td><td>8921.60   </td></tr>\n",
       "\t<tr><td>2015-01-23</td><td>16.75     </td><td>0.24      </td><td>16.78     </td><td>17.09     </td><td>258869.8  </td><td> 8442.46  </td><td>148840.0  </td><td>6733.60   </td></tr>\n",
       "\t<tr><td>2015-01-22</td><td>16.93     </td><td>0.28      </td><td>16.84     </td><td>17.17     </td><td>280315.8  </td><td> 7102.47  </td><td>150752.0  </td><td>9009.60   </td></tr>\n",
       "\t<tr><td>2015-01-21</td><td>16.99     </td><td>0.28      </td><td>16.97     </td><td>17.28     </td><td>264638.7  </td><td> 6588.56  </td><td>141504.0  </td><td>5455.20   </td></tr>\n",
       "\t<tr><td>2015-01-20</td><td>16.99     </td><td>0.33      </td><td>16.98     </td><td>17.72     </td><td>353068.3  </td><td> 5752.45  </td><td>253816.0  </td><td>2399.20   </td></tr>\n",
       "\t<tr><td>2015-01-19</td><td>16.95     </td><td>0.33      </td><td>16.99     </td><td>16.74     </td><td>366670.3  </td><td> 5752.45  </td><td>283802.4  </td><td>3588.80   </td></tr>\n",
       "\t<tr><td>2015-01-16</td><td>16.84     </td><td>0.90      </td><td>16.90     </td><td>16.93     </td><td>390772.0  </td><td>12098.09  </td><td>313375.2  </td><td>3227.20   </td></tr>\n",
       "\t<tr><td>2015-01-15</td><td>17.08     </td><td>0.71      </td><td>17.10     </td><td>17.15     </td><td>364920.5  </td><td>10233.65  </td><td>256759.2  </td><td>2743.20   </td></tr>\n",
       "\t<tr><td>2015-01-14</td><td>17.05     </td><td>0.75      </td><td>17.07     </td><td>17.15     </td><td>378656.6  </td><td> 9738.08  </td><td>208373.6  </td><td>3780.00   </td></tr>\n",
       "\t<tr><td>2015-01-13</td><td>17.00     </td><td>0.79      </td><td>17.10     </td><td>17.11     </td><td>376833.0  </td><td> 9335.37  </td><td>244021.6  </td><td>2925.60   </td></tr>\n",
       "\t<tr><td>2015-01-12</td><td>17.52     </td><td>0.72      </td><td>17.61     </td><td>17.89     </td><td>421066.9  </td><td> 9941.99  </td><td>350257.6  </td><td>2445.60   </td></tr>\n",
       "</tbody>\n",
       "</table>\n"
      ],
      "text/latex": [
       "\\begin{tabular}{r|lllllllll}\n",
       " Date & MIACR & MIACR\\_USD & MIACR\\_IG & MIACR\\_B & MIACR\\_vol & MIACR\\_USD\\_vol & MIACR\\_IG\\_vol & MIACR\\_B\\_vol\\\\\n",
       "\\hline\n",
       "\t 2020-03-25 & 5.90       & 0.16       & 5.82       & 6.00       & 253425.3   & 2456.16    & 153696     &  6520     \\\\\n",
       "\t 2020-03-24 & 5.95       & 0.21       & 5.93       & 5.93       & 247669.0   & 2911.12    & 148112     &  6400     \\\\\n",
       "\t 2020-03-23 & 5.90       & 0.16       & 5.82       & 5.86       & 240310.7   & 3827.17    & 131728     &  7960     \\\\\n",
       "\t 2020-03-20 & 5.85       & 0.10       & 5.84       & 6.08       & 254468.8   & 5247.85    & 167000     &  9520     \\\\\n",
       "\t 2020-03-19 & 5.68       & 0.23       & 5.65       & 5.93       & 188198.2   & 4289.71    & 115040     & 14436     \\\\\n",
       "\t 2020-03-18 & 5.47       & 0.53       & 5.45       & 5.60       & 208847.0   & 6597.15    & 150188     &  4360     \\\\\n",
       "\t 2020-03-17 & 5.35       & 0.80       & 5.29       & 5.50       & 213950.4   & 5319.73    & 136748     & 13760     \\\\\n",
       "\t 2020-03-16 & 5.37       & 0.92       & 5.25       & 5.50       & 285353.8   & 5213.93    & 141400     & 15412     \\\\\n",
       "\t 2020-03-13 & 5.35       & 1.09       & 5.26       & 5.53       & 236000.0   & 6754.82    & 108640     & 11300     \\\\\n",
       "\t 2020-03-12 & 5.65       & 1.09       & 5.64       & 5.68       & 265701.2   & 6785.80    & 180792     &  9120     \\\\\n",
       "\t 2020-03-11 & 5.68       & 1.09       & 5.56       & 5.80       & 217923.6   & 7074.71    & 140692     &  8316     \\\\\n",
       "\t 2020-03-10 & 5.95       & 1.11       & 5.76       & 5.86       & 215667.2   & 5650.63    & 115212     &  3276     \\\\\n",
       "\t 2020-03-06 & 6.00       & 1.12       & 5.96       & 5.93       & 225687.7   & 6135.14    & 109496     &  3676     \\\\\n",
       "\t 2020-03-05 & 5.91       & 1.10       & 5.87       & 5.88       & 217245.2   & 6232.61    & 101400     &  5116     \\\\\n",
       "\t 2020-03-04 & 5.94       & 1.10       & 5.86       & 5.94       & 208851.9   & 6426.07    &  92472     &  6716     \\\\\n",
       "\t 2020-03-03 & 5.98       & 1.57       & 5.89       & 5.91       & 253778.7   & 6107.33    &  98224     &  8316     \\\\\n",
       "\t 2020-03-02 & 5.99       & 1.60       & 5.82       & 5.92       & 195264.5   & 6959.41    &  44248     &  4076     \\\\\n",
       "\t 2020-02-28 & 6.24       & 1.57       & 6.21       & 5.92       & 284419.0   & 7423.42    & 140200     &  4076     \\\\\n",
       "\t 2020-02-27 & 5.99       & 1.58       & 5.88       & 5.90       & 182358.8   & 7205.74    &  59348     &  2636     \\\\\n",
       "\t 2020-02-26 & 6.03       & 1.58       & 6.02       & 5.94       & 229361.5   & 8053.31    &  94024     &  1868     \\\\\n",
       "\t 2020-02-25 & 5.97       & 1.57       & 5.98       & 6.04       & 204698.2   & 8185.46    &  56540     &  5308     \\\\\n",
       "\t 2020-02-21 & 5.83       & 1.59       & 5.75       & 5.83       & 203257.4   & 6573.07    &  77820     &  3148     \\\\\n",
       "\t 2020-02-20 & 5.83       & 1.59       & 5.76       & 5.83       & 206451.2   & 5542.74    &  86236     &  3148     \\\\\n",
       "\t 2020-02-19 & 5.84       & 1.58       & 5.77       & 5.79       & 190665.9   & 4966.73    &  78348     &  2268     \\\\\n",
       "\t 2020-02-18 & 5.82       & 1.58       & 5.77       & 5.83       & 148890.1   & 5157.66    &  64120     &  2260     \\\\\n",
       "\t 2020-02-17 & 5.81       & 1.58       & 5.81       & 5.83       & 114412.4   & 5157.66    &  76536     &  1540     \\\\\n",
       "\t 2020-02-14 & 5.81       & 1.58       & 5.81       & 5.83       & 117557.2   & 5725.05    &  83088     &  1932     \\\\\n",
       "\t 2020-02-13 & 5.84       & 1.58       & 5.77       & 5.82       & 173851.9   & 5562.39    &  58564     &  1132     \\\\\n",
       "\t 2020-02-12 & 5.81       & 1.59       & 5.71       & 5.82       & 145739.1   & 4969.70    &  63992     &  1132     \\\\\n",
       "\t 2020-02-11 & 5.89       & 1.59       & 5.70       & 5.82       & 146240.5   & 4485.89    &  53672     &  1132     \\\\\n",
       "\t ... & ... & ... & ... & ... & ... & ... & ... & ...\\\\\n",
       "\t 2015-02-20 & 15.03      & 0.13       & 15.00      & 15.45      & 228653.1   &  5849.66   & 117320.0   & 3050.40   \\\\\n",
       "\t 2015-02-19 & 15.07      & 0.13       & 14.98      & 15.40      & 226393.9   &  6341.56   & 125272.0   & 3958.40   \\\\\n",
       "\t 2015-02-18 & 15.06      & 0.13       & 14.91      & 15.23      & 258156.6   &  6203.56   & 142856.0   & 5924.00   \\\\\n",
       "\t 2015-02-17 & 15.30      & 0.13       & 15.32      & 15.53      & 275685.6   &  4886.95   & 170040.0   & 7672.00   \\\\\n",
       "\t 2015-02-16 & 15.10      & 2.68       & 15.01      & 15.26      & 235297.9   &     3.29   & 146864.0   & 6372.80   \\\\\n",
       "\t 2015-02-13 & 15.22      & 0.13       & 15.17      & 15.35      & 337326.9   &  4763.52   & 238608.0   & 5365.60   \\\\\n",
       "\t 2015-02-12 & 15.19      & 0.13       & 15.17      & 15.35      & 368267.9   &  4355.12   & 291111.2   & 5889.60   \\\\\n",
       "\t 2015-02-11 & 15.34      & 0.14       & 15.32      & 15.60      & 309107.0   &  4662.59   & 265736.0   & 4154.40   \\\\\n",
       "\t 2015-02-10 & 15.38      & 0.13       & 15.36      & 15.40      & 220045.2   &  5950.40   & 158784.0   & 2177.60   \\\\\n",
       "\t 2015-02-09 & 14.90      & 0.18       & 14.87      & 15.37      & 262420.1   &  4772.44   & 205240.0   & 3038.40   \\\\\n",
       "\t 2015-02-06 & 14.75      & 0.15       & 14.70      & 14.46      & 285983.7   &  4442.84   & 200848.0   & 3056.89   \\\\\n",
       "\t 2015-02-05 & 14.63      & 0.14       & 14.61      & 14.66      & 289855.0   &  4833.76   & 219272.0   & 5422.40   \\\\\n",
       "\t 2015-02-04 & 14.81      & 0.14       & 14.82      & 14.82      & 395597.4   &  4941.25   & 302368.0   & 6260.00   \\\\\n",
       "\t 2015-02-03 & 14.87      & 0.13       & 14.84      & 14.90      & 325935.6   &  4309.20   & 241640.0   & 3952.00   \\\\\n",
       "\t 2015-02-02 & 14.95      & 0.12       & 14.92      & 15.35      & 235871.0   &  4624.32   & 165180.8   & 3392.00   \\\\\n",
       "\t 2015-01-30 & 16.64      & 0.33       & 16.66      & 16.54      & 248783.1   &  4678.84   & 167032.8   & 2740.00   \\\\\n",
       "\t 2015-01-29 & 16.73      & 0.12       & 16.70      & 17.16      & 296584.5   &  5503.41   & 188096.0   & 8128.00   \\\\\n",
       "\t 2015-01-28 & 16.96      & 0.12       & 16.77      & 17.24      & 243645.8   &  6490.80   & 162816.0   & 7358.40   \\\\\n",
       "\t 2015-01-27 & 17.23      & 0.13       & 16.88      & 17.19      & 317751.0   &  6464.64   & 183188.0   & 9214.40   \\\\\n",
       "\t 2015-01-26 & 16.81      & 0.12       & 16.82      & 17.21      & 297183.8   &  8635.00   & 176344.0   & 8921.60   \\\\\n",
       "\t 2015-01-23 & 16.75      & 0.24       & 16.78      & 17.09      & 258869.8   &  8442.46   & 148840.0   & 6733.60   \\\\\n",
       "\t 2015-01-22 & 16.93      & 0.28       & 16.84      & 17.17      & 280315.8   &  7102.47   & 150752.0   & 9009.60   \\\\\n",
       "\t 2015-01-21 & 16.99      & 0.28       & 16.97      & 17.28      & 264638.7   &  6588.56   & 141504.0   & 5455.20   \\\\\n",
       "\t 2015-01-20 & 16.99      & 0.33       & 16.98      & 17.72      & 353068.3   &  5752.45   & 253816.0   & 2399.20   \\\\\n",
       "\t 2015-01-19 & 16.95      & 0.33       & 16.99      & 16.74      & 366670.3   &  5752.45   & 283802.4   & 3588.80   \\\\\n",
       "\t 2015-01-16 & 16.84      & 0.90       & 16.90      & 16.93      & 390772.0   & 12098.09   & 313375.2   & 3227.20   \\\\\n",
       "\t 2015-01-15 & 17.08      & 0.71       & 17.10      & 17.15      & 364920.5   & 10233.65   & 256759.2   & 2743.20   \\\\\n",
       "\t 2015-01-14 & 17.05      & 0.75       & 17.07      & 17.15      & 378656.6   &  9738.08   & 208373.6   & 3780.00   \\\\\n",
       "\t 2015-01-13 & 17.00      & 0.79       & 17.10      & 17.11      & 376833.0   &  9335.37   & 244021.6   & 2925.60   \\\\\n",
       "\t 2015-01-12 & 17.52      & 0.72       & 17.61      & 17.89      & 421066.9   &  9941.99   & 350257.6   & 2445.60   \\\\\n",
       "\\end{tabular}\n"
      ],
      "text/markdown": [
       "\n",
       "| Date | MIACR | MIACR_USD | MIACR_IG | MIACR_B | MIACR_vol | MIACR_USD_vol | MIACR_IG_vol | MIACR_B_vol |\n",
       "|---|---|---|---|---|---|---|---|---|\n",
       "| 2020-03-25 | 5.90       | 0.16       | 5.82       | 6.00       | 253425.3   | 2456.16    | 153696     |  6520      |\n",
       "| 2020-03-24 | 5.95       | 0.21       | 5.93       | 5.93       | 247669.0   | 2911.12    | 148112     |  6400      |\n",
       "| 2020-03-23 | 5.90       | 0.16       | 5.82       | 5.86       | 240310.7   | 3827.17    | 131728     |  7960      |\n",
       "| 2020-03-20 | 5.85       | 0.10       | 5.84       | 6.08       | 254468.8   | 5247.85    | 167000     |  9520      |\n",
       "| 2020-03-19 | 5.68       | 0.23       | 5.65       | 5.93       | 188198.2   | 4289.71    | 115040     | 14436      |\n",
       "| 2020-03-18 | 5.47       | 0.53       | 5.45       | 5.60       | 208847.0   | 6597.15    | 150188     |  4360      |\n",
       "| 2020-03-17 | 5.35       | 0.80       | 5.29       | 5.50       | 213950.4   | 5319.73    | 136748     | 13760      |\n",
       "| 2020-03-16 | 5.37       | 0.92       | 5.25       | 5.50       | 285353.8   | 5213.93    | 141400     | 15412      |\n",
       "| 2020-03-13 | 5.35       | 1.09       | 5.26       | 5.53       | 236000.0   | 6754.82    | 108640     | 11300      |\n",
       "| 2020-03-12 | 5.65       | 1.09       | 5.64       | 5.68       | 265701.2   | 6785.80    | 180792     |  9120      |\n",
       "| 2020-03-11 | 5.68       | 1.09       | 5.56       | 5.80       | 217923.6   | 7074.71    | 140692     |  8316      |\n",
       "| 2020-03-10 | 5.95       | 1.11       | 5.76       | 5.86       | 215667.2   | 5650.63    | 115212     |  3276      |\n",
       "| 2020-03-06 | 6.00       | 1.12       | 5.96       | 5.93       | 225687.7   | 6135.14    | 109496     |  3676      |\n",
       "| 2020-03-05 | 5.91       | 1.10       | 5.87       | 5.88       | 217245.2   | 6232.61    | 101400     |  5116      |\n",
       "| 2020-03-04 | 5.94       | 1.10       | 5.86       | 5.94       | 208851.9   | 6426.07    |  92472     |  6716      |\n",
       "| 2020-03-03 | 5.98       | 1.57       | 5.89       | 5.91       | 253778.7   | 6107.33    |  98224     |  8316      |\n",
       "| 2020-03-02 | 5.99       | 1.60       | 5.82       | 5.92       | 195264.5   | 6959.41    |  44248     |  4076      |\n",
       "| 2020-02-28 | 6.24       | 1.57       | 6.21       | 5.92       | 284419.0   | 7423.42    | 140200     |  4076      |\n",
       "| 2020-02-27 | 5.99       | 1.58       | 5.88       | 5.90       | 182358.8   | 7205.74    |  59348     |  2636      |\n",
       "| 2020-02-26 | 6.03       | 1.58       | 6.02       | 5.94       | 229361.5   | 8053.31    |  94024     |  1868      |\n",
       "| 2020-02-25 | 5.97       | 1.57       | 5.98       | 6.04       | 204698.2   | 8185.46    |  56540     |  5308      |\n",
       "| 2020-02-21 | 5.83       | 1.59       | 5.75       | 5.83       | 203257.4   | 6573.07    |  77820     |  3148      |\n",
       "| 2020-02-20 | 5.83       | 1.59       | 5.76       | 5.83       | 206451.2   | 5542.74    |  86236     |  3148      |\n",
       "| 2020-02-19 | 5.84       | 1.58       | 5.77       | 5.79       | 190665.9   | 4966.73    |  78348     |  2268      |\n",
       "| 2020-02-18 | 5.82       | 1.58       | 5.77       | 5.83       | 148890.1   | 5157.66    |  64120     |  2260      |\n",
       "| 2020-02-17 | 5.81       | 1.58       | 5.81       | 5.83       | 114412.4   | 5157.66    |  76536     |  1540      |\n",
       "| 2020-02-14 | 5.81       | 1.58       | 5.81       | 5.83       | 117557.2   | 5725.05    |  83088     |  1932      |\n",
       "| 2020-02-13 | 5.84       | 1.58       | 5.77       | 5.82       | 173851.9   | 5562.39    |  58564     |  1132      |\n",
       "| 2020-02-12 | 5.81       | 1.59       | 5.71       | 5.82       | 145739.1   | 4969.70    |  63992     |  1132      |\n",
       "| 2020-02-11 | 5.89       | 1.59       | 5.70       | 5.82       | 146240.5   | 4485.89    |  53672     |  1132      |\n",
       "| ... | ... | ... | ... | ... | ... | ... | ... | ... |\n",
       "| 2015-02-20 | 15.03      | 0.13       | 15.00      | 15.45      | 228653.1   |  5849.66   | 117320.0   | 3050.40    |\n",
       "| 2015-02-19 | 15.07      | 0.13       | 14.98      | 15.40      | 226393.9   |  6341.56   | 125272.0   | 3958.40    |\n",
       "| 2015-02-18 | 15.06      | 0.13       | 14.91      | 15.23      | 258156.6   |  6203.56   | 142856.0   | 5924.00    |\n",
       "| 2015-02-17 | 15.30      | 0.13       | 15.32      | 15.53      | 275685.6   |  4886.95   | 170040.0   | 7672.00    |\n",
       "| 2015-02-16 | 15.10      | 2.68       | 15.01      | 15.26      | 235297.9   |     3.29   | 146864.0   | 6372.80    |\n",
       "| 2015-02-13 | 15.22      | 0.13       | 15.17      | 15.35      | 337326.9   |  4763.52   | 238608.0   | 5365.60    |\n",
       "| 2015-02-12 | 15.19      | 0.13       | 15.17      | 15.35      | 368267.9   |  4355.12   | 291111.2   | 5889.60    |\n",
       "| 2015-02-11 | 15.34      | 0.14       | 15.32      | 15.60      | 309107.0   |  4662.59   | 265736.0   | 4154.40    |\n",
       "| 2015-02-10 | 15.38      | 0.13       | 15.36      | 15.40      | 220045.2   |  5950.40   | 158784.0   | 2177.60    |\n",
       "| 2015-02-09 | 14.90      | 0.18       | 14.87      | 15.37      | 262420.1   |  4772.44   | 205240.0   | 3038.40    |\n",
       "| 2015-02-06 | 14.75      | 0.15       | 14.70      | 14.46      | 285983.7   |  4442.84   | 200848.0   | 3056.89    |\n",
       "| 2015-02-05 | 14.63      | 0.14       | 14.61      | 14.66      | 289855.0   |  4833.76   | 219272.0   | 5422.40    |\n",
       "| 2015-02-04 | 14.81      | 0.14       | 14.82      | 14.82      | 395597.4   |  4941.25   | 302368.0   | 6260.00    |\n",
       "| 2015-02-03 | 14.87      | 0.13       | 14.84      | 14.90      | 325935.6   |  4309.20   | 241640.0   | 3952.00    |\n",
       "| 2015-02-02 | 14.95      | 0.12       | 14.92      | 15.35      | 235871.0   |  4624.32   | 165180.8   | 3392.00    |\n",
       "| 2015-01-30 | 16.64      | 0.33       | 16.66      | 16.54      | 248783.1   |  4678.84   | 167032.8   | 2740.00    |\n",
       "| 2015-01-29 | 16.73      | 0.12       | 16.70      | 17.16      | 296584.5   |  5503.41   | 188096.0   | 8128.00    |\n",
       "| 2015-01-28 | 16.96      | 0.12       | 16.77      | 17.24      | 243645.8   |  6490.80   | 162816.0   | 7358.40    |\n",
       "| 2015-01-27 | 17.23      | 0.13       | 16.88      | 17.19      | 317751.0   |  6464.64   | 183188.0   | 9214.40    |\n",
       "| 2015-01-26 | 16.81      | 0.12       | 16.82      | 17.21      | 297183.8   |  8635.00   | 176344.0   | 8921.60    |\n",
       "| 2015-01-23 | 16.75      | 0.24       | 16.78      | 17.09      | 258869.8   |  8442.46   | 148840.0   | 6733.60    |\n",
       "| 2015-01-22 | 16.93      | 0.28       | 16.84      | 17.17      | 280315.8   |  7102.47   | 150752.0   | 9009.60    |\n",
       "| 2015-01-21 | 16.99      | 0.28       | 16.97      | 17.28      | 264638.7   |  6588.56   | 141504.0   | 5455.20    |\n",
       "| 2015-01-20 | 16.99      | 0.33       | 16.98      | 17.72      | 353068.3   |  5752.45   | 253816.0   | 2399.20    |\n",
       "| 2015-01-19 | 16.95      | 0.33       | 16.99      | 16.74      | 366670.3   |  5752.45   | 283802.4   | 3588.80    |\n",
       "| 2015-01-16 | 16.84      | 0.90       | 16.90      | 16.93      | 390772.0   | 12098.09   | 313375.2   | 3227.20    |\n",
       "| 2015-01-15 | 17.08      | 0.71       | 17.10      | 17.15      | 364920.5   | 10233.65   | 256759.2   | 2743.20    |\n",
       "| 2015-01-14 | 17.05      | 0.75       | 17.07      | 17.15      | 378656.6   |  9738.08   | 208373.6   | 3780.00    |\n",
       "| 2015-01-13 | 17.00      | 0.79       | 17.10      | 17.11      | 376833.0   |  9335.37   | 244021.6   | 2925.60    |\n",
       "| 2015-01-12 | 17.52      | 0.72       | 17.61      | 17.89      | 421066.9   |  9941.99   | 350257.6   | 2445.60    |\n",
       "\n"
      ],
      "text/plain": [
       "     Date       MIACR MIACR_USD MIACR_IG MIACR_B MIACR_vol MIACR_USD_vol\n",
       "1    2020-03-25 5.90  0.16      5.82     6.00    253425.3  2456.16      \n",
       "2    2020-03-24 5.95  0.21      5.93     5.93    247669.0  2911.12      \n",
       "3    2020-03-23 5.90  0.16      5.82     5.86    240310.7  3827.17      \n",
       "4    2020-03-20 5.85  0.10      5.84     6.08    254468.8  5247.85      \n",
       "5    2020-03-19 5.68  0.23      5.65     5.93    188198.2  4289.71      \n",
       "6    2020-03-18 5.47  0.53      5.45     5.60    208847.0  6597.15      \n",
       "7    2020-03-17 5.35  0.80      5.29     5.50    213950.4  5319.73      \n",
       "8    2020-03-16 5.37  0.92      5.25     5.50    285353.8  5213.93      \n",
       "9    2020-03-13 5.35  1.09      5.26     5.53    236000.0  6754.82      \n",
       "10   2020-03-12 5.65  1.09      5.64     5.68    265701.2  6785.80      \n",
       "11   2020-03-11 5.68  1.09      5.56     5.80    217923.6  7074.71      \n",
       "12   2020-03-10 5.95  1.11      5.76     5.86    215667.2  5650.63      \n",
       "13   2020-03-06 6.00  1.12      5.96     5.93    225687.7  6135.14      \n",
       "14   2020-03-05 5.91  1.10      5.87     5.88    217245.2  6232.61      \n",
       "15   2020-03-04 5.94  1.10      5.86     5.94    208851.9  6426.07      \n",
       "16   2020-03-03 5.98  1.57      5.89     5.91    253778.7  6107.33      \n",
       "17   2020-03-02 5.99  1.60      5.82     5.92    195264.5  6959.41      \n",
       "18   2020-02-28 6.24  1.57      6.21     5.92    284419.0  7423.42      \n",
       "19   2020-02-27 5.99  1.58      5.88     5.90    182358.8  7205.74      \n",
       "20   2020-02-26 6.03  1.58      6.02     5.94    229361.5  8053.31      \n",
       "21   2020-02-25 5.97  1.57      5.98     6.04    204698.2  8185.46      \n",
       "22   2020-02-21 5.83  1.59      5.75     5.83    203257.4  6573.07      \n",
       "23   2020-02-20 5.83  1.59      5.76     5.83    206451.2  5542.74      \n",
       "24   2020-02-19 5.84  1.58      5.77     5.79    190665.9  4966.73      \n",
       "25   2020-02-18 5.82  1.58      5.77     5.83    148890.1  5157.66      \n",
       "26   2020-02-17 5.81  1.58      5.81     5.83    114412.4  5157.66      \n",
       "27   2020-02-14 5.81  1.58      5.81     5.83    117557.2  5725.05      \n",
       "28   2020-02-13 5.84  1.58      5.77     5.82    173851.9  5562.39      \n",
       "29   2020-02-12 5.81  1.59      5.71     5.82    145739.1  4969.70      \n",
       "30   2020-02-11 5.89  1.59      5.70     5.82    146240.5  4485.89      \n",
       "...  ...        ...   ...       ...      ...     ...       ...          \n",
       "1259 2015-02-20 15.03 0.13      15.00    15.45   228653.1   5849.66     \n",
       "1260 2015-02-19 15.07 0.13      14.98    15.40   226393.9   6341.56     \n",
       "1261 2015-02-18 15.06 0.13      14.91    15.23   258156.6   6203.56     \n",
       "1262 2015-02-17 15.30 0.13      15.32    15.53   275685.6   4886.95     \n",
       "1263 2015-02-16 15.10 2.68      15.01    15.26   235297.9      3.29     \n",
       "1264 2015-02-13 15.22 0.13      15.17    15.35   337326.9   4763.52     \n",
       "1265 2015-02-12 15.19 0.13      15.17    15.35   368267.9   4355.12     \n",
       "1266 2015-02-11 15.34 0.14      15.32    15.60   309107.0   4662.59     \n",
       "1267 2015-02-10 15.38 0.13      15.36    15.40   220045.2   5950.40     \n",
       "1268 2015-02-09 14.90 0.18      14.87    15.37   262420.1   4772.44     \n",
       "1269 2015-02-06 14.75 0.15      14.70    14.46   285983.7   4442.84     \n",
       "1270 2015-02-05 14.63 0.14      14.61    14.66   289855.0   4833.76     \n",
       "1271 2015-02-04 14.81 0.14      14.82    14.82   395597.4   4941.25     \n",
       "1272 2015-02-03 14.87 0.13      14.84    14.90   325935.6   4309.20     \n",
       "1273 2015-02-02 14.95 0.12      14.92    15.35   235871.0   4624.32     \n",
       "1274 2015-01-30 16.64 0.33      16.66    16.54   248783.1   4678.84     \n",
       "1275 2015-01-29 16.73 0.12      16.70    17.16   296584.5   5503.41     \n",
       "1276 2015-01-28 16.96 0.12      16.77    17.24   243645.8   6490.80     \n",
       "1277 2015-01-27 17.23 0.13      16.88    17.19   317751.0   6464.64     \n",
       "1278 2015-01-26 16.81 0.12      16.82    17.21   297183.8   8635.00     \n",
       "1279 2015-01-23 16.75 0.24      16.78    17.09   258869.8   8442.46     \n",
       "1280 2015-01-22 16.93 0.28      16.84    17.17   280315.8   7102.47     \n",
       "1281 2015-01-21 16.99 0.28      16.97    17.28   264638.7   6588.56     \n",
       "1282 2015-01-20 16.99 0.33      16.98    17.72   353068.3   5752.45     \n",
       "1283 2015-01-19 16.95 0.33      16.99    16.74   366670.3   5752.45     \n",
       "1284 2015-01-16 16.84 0.90      16.90    16.93   390772.0  12098.09     \n",
       "1285 2015-01-15 17.08 0.71      17.10    17.15   364920.5  10233.65     \n",
       "1286 2015-01-14 17.05 0.75      17.07    17.15   378656.6   9738.08     \n",
       "1287 2015-01-13 17.00 0.79      17.10    17.11   376833.0   9335.37     \n",
       "1288 2015-01-12 17.52 0.72      17.61    17.89   421066.9   9941.99     \n",
       "     MIACR_IG_vol MIACR_B_vol\n",
       "1    153696        6520      \n",
       "2    148112        6400      \n",
       "3    131728        7960      \n",
       "4    167000        9520      \n",
       "5    115040       14436      \n",
       "6    150188        4360      \n",
       "7    136748       13760      \n",
       "8    141400       15412      \n",
       "9    108640       11300      \n",
       "10   180792        9120      \n",
       "11   140692        8316      \n",
       "12   115212        3276      \n",
       "13   109496        3676      \n",
       "14   101400        5116      \n",
       "15    92472        6716      \n",
       "16    98224        8316      \n",
       "17    44248        4076      \n",
       "18   140200        4076      \n",
       "19    59348        2636      \n",
       "20    94024        1868      \n",
       "21    56540        5308      \n",
       "22    77820        3148      \n",
       "23    86236        3148      \n",
       "24    78348        2268      \n",
       "25    64120        2260      \n",
       "26    76536        1540      \n",
       "27    83088        1932      \n",
       "28    58564        1132      \n",
       "29    63992        1132      \n",
       "30    53672        1132      \n",
       "...  ...          ...        \n",
       "1259 117320.0     3050.40    \n",
       "1260 125272.0     3958.40    \n",
       "1261 142856.0     5924.00    \n",
       "1262 170040.0     7672.00    \n",
       "1263 146864.0     6372.80    \n",
       "1264 238608.0     5365.60    \n",
       "1265 291111.2     5889.60    \n",
       "1266 265736.0     4154.40    \n",
       "1267 158784.0     2177.60    \n",
       "1268 205240.0     3038.40    \n",
       "1269 200848.0     3056.89    \n",
       "1270 219272.0     5422.40    \n",
       "1271 302368.0     6260.00    \n",
       "1272 241640.0     3952.00    \n",
       "1273 165180.8     3392.00    \n",
       "1274 167032.8     2740.00    \n",
       "1275 188096.0     8128.00    \n",
       "1276 162816.0     7358.40    \n",
       "1277 183188.0     9214.40    \n",
       "1278 176344.0     8921.60    \n",
       "1279 148840.0     6733.60    \n",
       "1280 150752.0     9009.60    \n",
       "1281 141504.0     5455.20    \n",
       "1282 253816.0     2399.20    \n",
       "1283 283802.4     3588.80    \n",
       "1284 313375.2     3227.20    \n",
       "1285 256759.2     2743.20    \n",
       "1286 208373.6     3780.00    \n",
       "1287 244021.6     2925.60    \n",
       "1288 350257.6     2445.60    "
      ]
     },
     "metadata": {},
     "output_type": "display_data"
    }
   ],
   "source": [
    "cbr"
   ]
  },
  {
   "cell_type": "code",
   "execution_count": 432,
   "metadata": {},
   "outputs": [],
   "source": [
    "cbr <- quant_tools_to_xts(cbr)"
   ]
  },
  {
   "cell_type": "code",
   "execution_count": 433,
   "metadata": {},
   "outputs": [],
   "source": [
    "cbr <- diff(log(cbr))"
   ]
  },
  {
   "cell_type": "code",
   "execution_count": 434,
   "metadata": {},
   "outputs": [],
   "source": [
    "colnames(USDRUB.rtn) <- 'USDRUB'"
   ]
  },
  {
   "cell_type": "code",
   "execution_count": 435,
   "metadata": {},
   "outputs": [],
   "source": [
    "colnames(BRENT.rtn) <- 'BRENT'"
   ]
  },
  {
   "cell_type": "code",
   "execution_count": 494,
   "metadata": {},
   "outputs": [],
   "source": [
    "for_VAR <- merge(USDRUB.rtn, BRENT.rtn, cbr)"
   ]
  },
  {
   "cell_type": "code",
   "execution_count": 495,
   "metadata": {},
   "outputs": [],
   "source": [
    "for_VAR <- for_VAR[-c(1:11,1876:1877)]"
   ]
  },
  {
   "cell_type": "code",
   "execution_count": 496,
   "metadata": {},
   "outputs": [],
   "source": [
    "for_VAR[is.na(for_VAR)] <- 0 "
   ]
  },
  {
   "cell_type": "code",
   "execution_count": 497,
   "metadata": {},
   "outputs": [],
   "source": [
    "library(vars)"
   ]
  },
  {
   "cell_type": "code",
   "execution_count": 498,
   "metadata": {},
   "outputs": [],
   "source": [
    "n5 <- nrow(for_VAR)\n",
    "k1 <- NULL\n",
    "k1 <- as.data.frame(k1)\n",
    "b1 <- 150\n",
    "n6 <- n5-b1+1\n",
    "for (i in n6:n5) {\n",
    "    train <- for_VAR[-c(i:n),]\n",
    "    m3 <- VAR(train, lag.max = 10, ic = 'AIC')\n",
    "    a3 <- predict(m3)\n",
    "    k1[(i-n6+1),1] <- as.numeric(a3$fcst$USDRUB[1,1])\n",
    "}"
   ]
  },
  {
   "cell_type": "code",
   "execution_count": 506,
   "metadata": {},
   "outputs": [
    {
     "data": {
      "text/plain": [
       "\n",
       "VAR Estimation Results:\n",
       "========================= \n",
       "Endogenous variables: USDRUB, BRENT, MIACR_B \n",
       "Deterministic variables: const \n",
       "Sample size: 1859 \n",
       "Log Likelihood: 15848.121 \n",
       "Roots of the characteristic polynomial:\n",
       "0.5281 0.5281 0.5184 0.5184 0.5061 0.5061  0.49  0.49 0.4528 0.4528 0.4199 0.4199\n",
       "Call:\n",
       "VAR(y = train, lag.max = 10, ic = \"AIC\")\n",
       "\n",
       "\n",
       "Estimation results for equation USDRUB: \n",
       "======================================= \n",
       "USDRUB = USDRUB.l1 + BRENT.l1 + MIACR_B.l1 + USDRUB.l2 + BRENT.l2 + MIACR_B.l2 + USDRUB.l3 + BRENT.l3 + MIACR_B.l3 + USDRUB.l4 + BRENT.l4 + MIACR_B.l4 + const \n",
       "\n",
       "             Estimate Std. Error t value Pr(>|t|)    \n",
       "USDRUB.l1  -0.1646743  0.0264172  -6.234 5.63e-10 ***\n",
       "BRENT.l1   -0.0478263  0.0129904  -3.682 0.000238 ***\n",
       "MIACR_B.l1  0.0381098  0.0141356   2.696 0.007081 ** \n",
       "USDRUB.l2  -0.0455225  0.0266693  -1.707 0.088004 .  \n",
       "BRENT.l2    0.0097457  0.0130609   0.746 0.455657    \n",
       "MIACR_B.l2 -0.0176354  0.0141711  -1.244 0.213488    \n",
       "USDRUB.l3  -0.0319292  0.0266865  -1.196 0.231672    \n",
       "BRENT.l3   -0.0233916  0.0130942  -1.786 0.074198 .  \n",
       "MIACR_B.l3  0.0005460  0.0141767   0.039 0.969280    \n",
       "USDRUB.l4  -0.1020376  0.0263411  -3.874 0.000111 ***\n",
       "BRENT.l4   -0.0371479  0.0131138  -2.833 0.004665 ** \n",
       "MIACR_B.l4  0.0036423  0.0141554   0.257 0.796969    \n",
       "const       0.0001240  0.0002301   0.539 0.590158    \n",
       "---\n",
       "Signif. codes:  0 '***' 0.001 '**' 0.01 '*' 0.05 '.' 0.1 ' ' 1\n",
       "\n",
       "\n",
       "Residual standard error: 0.009889 on 1846 degrees of freedom\n",
       "Multiple R-Squared: 0.03836,\tAdjusted R-squared: 0.03211 \n",
       "F-statistic: 6.137 on 12 and 1846 DF,  p-value: 1.135e-10 \n",
       "\n",
       "\n",
       "Estimation results for equation BRENT: \n",
       "====================================== \n",
       "BRENT = USDRUB.l1 + BRENT.l1 + MIACR_B.l1 + USDRUB.l2 + BRENT.l2 + MIACR_B.l2 + USDRUB.l3 + BRENT.l3 + MIACR_B.l3 + USDRUB.l4 + BRENT.l4 + MIACR_B.l4 + const \n",
       "\n",
       "             Estimate Std. Error t value Pr(>|t|)   \n",
       "USDRUB.l1   0.0902014  0.0537533   1.678  0.09350 . \n",
       "BRENT.l1    0.0112260  0.0264327   0.425  0.67110   \n",
       "MIACR_B.l1 -0.0578072  0.0287629  -2.010  0.04460 * \n",
       "USDRUB.l2  -0.0756940  0.0542662  -1.395  0.16322   \n",
       "BRENT.l2   -0.0502027  0.0265761  -1.889  0.05905 . \n",
       "MIACR_B.l2  0.0075495  0.0288352   0.262  0.79349   \n",
       "USDRUB.l3  -0.0616662  0.0543013  -1.136  0.25626   \n",
       "BRENT.l3    0.0370384  0.0266440   1.390  0.16466   \n",
       "MIACR_B.l3  0.0281081  0.0288465   0.974  0.32998   \n",
       "USDRUB.l4   0.1537984  0.0535984   2.869  0.00416 **\n",
       "BRENT.l4    0.0367194  0.0266837   1.376  0.16896   \n",
       "MIACR_B.l4 -0.0469618  0.0288032  -1.630  0.10318   \n",
       "const      -0.0003636  0.0004682  -0.777  0.43749   \n",
       "---\n",
       "Signif. codes:  0 '***' 0.001 '**' 0.01 '*' 0.05 '.' 0.1 ' ' 1\n",
       "\n",
       "\n",
       "Residual standard error: 0.02012 on 1846 degrees of freedom\n",
       "Multiple R-Squared: 0.01824,\tAdjusted R-squared: 0.01185 \n",
       "F-statistic: 2.858 on 12 and 1846 DF,  p-value: 0.0006582 \n",
       "\n",
       "\n",
       "Estimation results for equation MIACR_B: \n",
       "======================================== \n",
       "MIACR_B = USDRUB.l1 + BRENT.l1 + MIACR_B.l1 + USDRUB.l2 + BRENT.l2 + MIACR_B.l2 + USDRUB.l3 + BRENT.l3 + MIACR_B.l3 + USDRUB.l4 + BRENT.l4 + MIACR_B.l4 + const \n",
       "\n",
       "             Estimate Std. Error t value Pr(>|t|)   \n",
       "USDRUB.l1   0.0445896  0.0434338   1.027  0.30474   \n",
       "BRENT.l1    0.0063716  0.0213581   0.298  0.76549   \n",
       "MIACR_B.l1 -0.0338678  0.0232411  -1.457  0.14522   \n",
       "USDRUB.l2  -0.0285246  0.0438482  -0.651  0.51543   \n",
       "BRENT.l2   -0.0082686  0.0214740  -0.385  0.70025   \n",
       "MIACR_B.l2  0.0108860  0.0232995   0.467  0.64040   \n",
       "USDRUB.l3  -0.0727730  0.0438766  -1.659  0.09737 . \n",
       "BRENT.l3   -0.0512818  0.0215289  -2.382  0.01732 * \n",
       "MIACR_B.l3 -0.0049605  0.0233086  -0.213  0.83149   \n",
       "USDRUB.l4  -0.1122950  0.0433086  -2.593  0.00959 **\n",
       "BRENT.l4   -0.0109767  0.0215610  -0.509  0.61074   \n",
       "MIACR_B.l4 -0.0163450  0.0232736  -0.702  0.48258   \n",
       "const      -0.0005889  0.0003783  -1.557  0.11973   \n",
       "---\n",
       "Signif. codes:  0 '***' 0.001 '**' 0.01 '*' 0.05 '.' 0.1 ' ' 1\n",
       "\n",
       "\n",
       "Residual standard error: 0.01626 on 1846 degrees of freedom\n",
       "Multiple R-Squared: 0.009254,\tAdjusted R-squared: 0.002814 \n",
       "F-statistic: 1.437 on 12 and 1846 DF,  p-value: 0.1419 \n",
       "\n",
       "\n",
       "\n",
       "Covariance matrix of residuals:\n",
       "            USDRUB      BRENT    MIACR_B\n",
       "USDRUB   9.778e-05 -9.493e-05 -2.222e-06\n",
       "BRENT   -9.493e-05  4.049e-04 -7.844e-06\n",
       "MIACR_B -2.222e-06 -7.844e-06  2.643e-04\n",
       "\n",
       "Correlation matrix of residuals:\n",
       "          USDRUB    BRENT  MIACR_B\n",
       "USDRUB   1.00000 -0.47712 -0.01382\n",
       "BRENT   -0.47712  1.00000 -0.02398\n",
       "MIACR_B -0.01382 -0.02398  1.00000\n",
       "\n"
      ]
     },
     "metadata": {},
     "output_type": "display_data"
    }
   ],
   "source": [
    "summary(m3)"
   ]
  },
  {
   "cell_type": "code",
   "execution_count": 499,
   "metadata": {},
   "outputs": [],
   "source": [
    "c <- cbind(as.data.frame(for_VAR$USDRUB[n6:n5]), k1$V1)\n",
    "row.names(c) <- NULL \n",
    "colnames(c)<- c('REAL', 'PRED')\n",
    "l <- -c(n6:n5)\n",
    "# c$PRED <- c$PRED*sd(for_VAR$USDRUB[l])/sd(c$PRED)\n",
    "p <- NULL\n",
    "p <- as.data.frame(p)\n",
    "p[1,1] <- USDRUB$close[n6]\n",
    "p[1,2] <- USDRUB$close[n6]\n",
    "c <- exp(c)\n",
    "colnames(p) <- c('REAL' , 'PRED')\n",
    "blin <- rbind(p, c)\n",
    "rownames(blin) <- NULL"
   ]
  },
  {
   "cell_type": "code",
   "execution_count": 500,
   "metadata": {},
   "outputs": [],
   "source": [
    "blin <- as.data.frame(blin)\n",
    "blin$REAL <- cumprod(blin$REAL)\n",
    "blin <- as.data.frame(blin)\n",
    "for (i in 1:150)\n",
    "    {blin$PRED[i+1] <- as.numeric(as.numeric(blin[(i+1),2])*as.numeric(blin[i,1]))\n",
    "}\n",
    "\n",
    "blin <- as.data.frame(blin)"
   ]
  },
  {
   "cell_type": "code",
   "execution_count": 501,
   "metadata": {
    "scrolled": true
   },
   "outputs": [],
   "source": [
    "blin <- as.data.frame(blin)\n",
    "for (i in 2:151) { \n",
    " \n",
    "    blin[i,3] <- as.numeric(blin[i,1]>as.numeric(blin[(i-1),1]))\n",
    "    \n",
    "    }\n",
    "for (i in 2:151) { \n",
    " \n",
    "    blin[i,4] <- as.numeric(blin[i,2]>as.numeric(blin[(i-1),2]))\n",
    "    \n",
    "    }\n"
   ]
  },
  {
   "cell_type": "code",
   "execution_count": 502,
   "metadata": {},
   "outputs": [
    {
     "data": {
      "image/png": "[encoded data removed]",
      "text/plain": [
       "Plot with title \"USD/RUB\""
      ]
     },
     "metadata": {},
     "output_type": "display_data"
    }
   ],
   "source": [
    "blin <- blin[-1,]\n",
    "blin[,5] <- as.numeric(blin$V3==blin$V4)\n",
    "blin$V4 <- as.numeric(blin$V4)\n",
    "rownames(blin) <- NULL\n",
    "blin[1,6] <- 0\n",
    "\n",
    "\n",
    "plot(blin$REAL, x = index(blin$REAL),t = 'l', col ='red', main = 'USD/RUB',\n",
    "     sub = paste0('accuracy=', sum(blin$V5)/nrow(blin)), xlab = 'time', ylab='cumulative value' )\n",
    "lines(blin$PRED, x = index(blin$PRED),col = 'blue')\n",
    "legend(\"topleft\", c(\"REAL\",\"PREDICTION\"), fill=c(\"red\",\"blue\"))"
   ]
  },
  {
   "cell_type": "markdown",
   "metadata": {},
   "source": [
    "##### Мы попробовали не выкидывать незначимые факторы, теперь попробуем их выкинуть"
   ]
  },
  {
   "cell_type": "code",
   "execution_count": 503,
   "metadata": {},
   "outputs": [],
   "source": [
    "for_VAR$MIACR_IG <- NULL\n",
    "for_VAR$MIACR_vol <- NULL \n",
    "for_VAR$MIACR_USD_vol <- NULL \n",
    "for_VAR$MIACR_IG_vol <- NULL \n",
    "for_VAR$MIACR_B_vol <- NULL\n",
    "for_VAR$MIACR <- NULL \n",
    "for_VAR$MIACR_USD <- NULL"
   ]
  },
  {
   "cell_type": "code",
   "execution_count": 504,
   "metadata": {},
   "outputs": [
    {
     "data": {
      "image/png": "[encoded data removed]",
      "text/plain": [
       "Plot with title \"USD/RUB\""
      ]
     },
     "metadata": {},
     "output_type": "display_data"
    }
   ],
   "source": [
    "n5 <- nrow(for_VAR)\n",
    "k1 <- NULL\n",
    "k1 <- as.data.frame(k1)\n",
    "b1 <- 150\n",
    "n6 <- n5-b1+1\n",
    "for (i in n6:n5) {\n",
    "    train <- for_VAR[-c(i:n),]\n",
    "    m3 <- VAR(train, lag.max = 10, ic = 'AIC')\n",
    "    a3 <- predict(m3)\n",
    "    k1[(i-n6+1),1] <- as.numeric(a3$fcst$USDRUB[1,1])\n",
    "}\n",
    "c <- cbind(as.data.frame(for_VAR$USDRUB[n6:n5]), k1$V1)\n",
    "# c.V1 <- c$k1.V1*sd(for_VAR$USDRUB[-с(n6:n5)]/sd(c$k1.V1)\n",
    "colnames(c)<- c('REAL', 'PRED')\n",
    "row.names(c) <- NULL \n",
    "p <- NULL\n",
    "p <- as.data.frame(p)\n",
    "p[1,1] <- USDRUB$close[n6]\n",
    "p[1,2] <- USDRUB$close[n6]\n",
    "c <- exp(c)\n",
    "colnames(p) <- c('REAL' , 'PRED')\n",
    "blin <- rbind(p, c)\n",
    "rownames(blin) <- NULL\n",
    "blin <- as.data.frame(blin)\n",
    "blin$REAL <- cumprod(blin$REAL)\n",
    "blin <- as.data.frame(blin)\n",
    "for (i in 1:150)\n",
    "    {blin$PRED[i+1] <- as.numeric(as.numeric(blin[(i+1),2])*as.numeric(blin[i,1]))\n",
    "}\n",
    "\n",
    "blin <- as.data.frame(blin)\n",
    "blin <- as.data.frame(blin)\n",
    "for (i in 2:151) { \n",
    " \n",
    "    blin[i,3] <- as.numeric(blin[i,1]>as.numeric(blin[(i-1),1]))\n",
    "    \n",
    "    }\n",
    "for (i in 2:151) { \n",
    " \n",
    "    blin[i,4] <- as.numeric(blin[i,2]>as.numeric(blin[(i-1),2]))\n",
    "    \n",
    "    }\n",
    "blin <- blin[-1,]\n",
    "blin[,5] <- as.numeric(blin$V3==blin$V4)\n",
    "blin$V4 <- as.numeric(blin$V4)\n",
    "rownames(blin) <- NULL\n",
    "blin[1,6] <- 0\n",
    "\n",
    "\n",
    "plot(blin$REAL, x = index(blin$REAL),t = 'l', col ='red', main = 'USD/RUB',\n",
    "     sub = paste0('accuracy=', sum(blin$V5)/nrow(blin)), xlab = 'time', ylab='cumulative value' )\n",
    "lines(blin$PRED, x = index(blin$PRED),col = 'blue')\n",
    "legend(\"topleft\", c(\"REAL\",\"PREDICTION\"), fill=c(\"red\",\"blue\"))"
   ]
  },
  {
   "cell_type": "markdown",
   "metadata": {},
   "source": [
    "#### Таким образом, все построенные нами модели получились не очень, все прогнозы во многом получились \" no change\". Дело в том, что день - слишком большой горизонт прогноза. По идее, такие модели можно применять использую минутный и часовые данные. "
   ]
  }
 ],
 "metadata": {
  "kernelspec": {
   "display_name": "R",
   "language": "R",
   "name": "ir"
  },
  "language_info": {
   "codemirror_mode": "r",
   "file_extension": ".r",
   "mimetype": "text/x-r-source",
   "name": "R",
   "pygments_lexer": "r",
   "version": "3.6.1"
  }
 },
 "nbformat": 4,
 "nbformat_minor": 4
}
